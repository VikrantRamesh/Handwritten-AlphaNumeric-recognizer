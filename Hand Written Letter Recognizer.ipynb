{
 "cells": [
  {
   "cell_type": "code",
   "execution_count": 1,
   "id": "35d971e6",
   "metadata": {
    "scrolled": true
   },
   "outputs": [],
   "source": [
    "import numpy as np\n",
    "import matplotlib.pyplot as plt\n",
    "import pandas as pd\n",
    "from sklearn import metrics\n",
    "from sklearn.metrics import mean_squared_error\n",
    "from sklearn.model_selection import train_test_split\n",
    "\n",
    "import seaborn as sns\n",
    "import tensorflow as tf\n",
    "from tensorflow import keras"
   ]
  },
  {
   "cell_type": "code",
   "execution_count": 6,
   "id": "462d9b2a",
   "metadata": {
    "scrolled": true
   },
   "outputs": [],
   "source": [
    "(X2_train,y2_train), (X2_test,y2_test) = keras.datasets.mnist.load_data()"
   ]
  },
  {
   "cell_type": "code",
   "execution_count": 2,
   "id": "7fbc5898",
   "metadata": {
    "scrolled": false
   },
   "outputs": [
    {
     "data": {
      "text/html": [
       "<div>\n",
       "<style scoped>\n",
       "    .dataframe tbody tr th:only-of-type {\n",
       "        vertical-align: middle;\n",
       "    }\n",
       "\n",
       "    .dataframe tbody tr th {\n",
       "        vertical-align: top;\n",
       "    }\n",
       "\n",
       "    .dataframe thead th {\n",
       "        text-align: right;\n",
       "    }\n",
       "</style>\n",
       "<table border=\"1\" class=\"dataframe\">\n",
       "  <thead>\n",
       "    <tr style=\"text-align: right;\">\n",
       "      <th></th>\n",
       "      <th>0</th>\n",
       "      <th>0.1</th>\n",
       "      <th>0.2</th>\n",
       "      <th>0.3</th>\n",
       "      <th>0.4</th>\n",
       "      <th>0.5</th>\n",
       "      <th>0.6</th>\n",
       "      <th>0.7</th>\n",
       "      <th>0.8</th>\n",
       "      <th>0.9</th>\n",
       "      <th>...</th>\n",
       "      <th>0.639</th>\n",
       "      <th>0.640</th>\n",
       "      <th>0.641</th>\n",
       "      <th>0.642</th>\n",
       "      <th>0.643</th>\n",
       "      <th>0.644</th>\n",
       "      <th>0.645</th>\n",
       "      <th>0.646</th>\n",
       "      <th>0.647</th>\n",
       "      <th>0.648</th>\n",
       "    </tr>\n",
       "  </thead>\n",
       "  <tbody>\n",
       "    <tr>\n",
       "      <th>0</th>\n",
       "      <td>0</td>\n",
       "      <td>0</td>\n",
       "      <td>0</td>\n",
       "      <td>0</td>\n",
       "      <td>0</td>\n",
       "      <td>0</td>\n",
       "      <td>0</td>\n",
       "      <td>0</td>\n",
       "      <td>0</td>\n",
       "      <td>0</td>\n",
       "      <td>...</td>\n",
       "      <td>0</td>\n",
       "      <td>0</td>\n",
       "      <td>0</td>\n",
       "      <td>0</td>\n",
       "      <td>0</td>\n",
       "      <td>0</td>\n",
       "      <td>0</td>\n",
       "      <td>0</td>\n",
       "      <td>0</td>\n",
       "      <td>0</td>\n",
       "    </tr>\n",
       "    <tr>\n",
       "      <th>1</th>\n",
       "      <td>0</td>\n",
       "      <td>0</td>\n",
       "      <td>0</td>\n",
       "      <td>0</td>\n",
       "      <td>0</td>\n",
       "      <td>0</td>\n",
       "      <td>0</td>\n",
       "      <td>0</td>\n",
       "      <td>0</td>\n",
       "      <td>0</td>\n",
       "      <td>...</td>\n",
       "      <td>0</td>\n",
       "      <td>0</td>\n",
       "      <td>0</td>\n",
       "      <td>0</td>\n",
       "      <td>0</td>\n",
       "      <td>0</td>\n",
       "      <td>0</td>\n",
       "      <td>0</td>\n",
       "      <td>0</td>\n",
       "      <td>0</td>\n",
       "    </tr>\n",
       "    <tr>\n",
       "      <th>2</th>\n",
       "      <td>0</td>\n",
       "      <td>0</td>\n",
       "      <td>0</td>\n",
       "      <td>0</td>\n",
       "      <td>0</td>\n",
       "      <td>0</td>\n",
       "      <td>0</td>\n",
       "      <td>0</td>\n",
       "      <td>0</td>\n",
       "      <td>0</td>\n",
       "      <td>...</td>\n",
       "      <td>0</td>\n",
       "      <td>0</td>\n",
       "      <td>0</td>\n",
       "      <td>0</td>\n",
       "      <td>0</td>\n",
       "      <td>0</td>\n",
       "      <td>0</td>\n",
       "      <td>0</td>\n",
       "      <td>0</td>\n",
       "      <td>0</td>\n",
       "    </tr>\n",
       "    <tr>\n",
       "      <th>3</th>\n",
       "      <td>0</td>\n",
       "      <td>0</td>\n",
       "      <td>0</td>\n",
       "      <td>0</td>\n",
       "      <td>0</td>\n",
       "      <td>0</td>\n",
       "      <td>0</td>\n",
       "      <td>0</td>\n",
       "      <td>0</td>\n",
       "      <td>0</td>\n",
       "      <td>...</td>\n",
       "      <td>0</td>\n",
       "      <td>0</td>\n",
       "      <td>0</td>\n",
       "      <td>0</td>\n",
       "      <td>0</td>\n",
       "      <td>0</td>\n",
       "      <td>0</td>\n",
       "      <td>0</td>\n",
       "      <td>0</td>\n",
       "      <td>0</td>\n",
       "    </tr>\n",
       "    <tr>\n",
       "      <th>4</th>\n",
       "      <td>0</td>\n",
       "      <td>0</td>\n",
       "      <td>0</td>\n",
       "      <td>0</td>\n",
       "      <td>0</td>\n",
       "      <td>0</td>\n",
       "      <td>0</td>\n",
       "      <td>0</td>\n",
       "      <td>0</td>\n",
       "      <td>0</td>\n",
       "      <td>...</td>\n",
       "      <td>0</td>\n",
       "      <td>0</td>\n",
       "      <td>0</td>\n",
       "      <td>0</td>\n",
       "      <td>0</td>\n",
       "      <td>0</td>\n",
       "      <td>0</td>\n",
       "      <td>0</td>\n",
       "      <td>0</td>\n",
       "      <td>0</td>\n",
       "    </tr>\n",
       "  </tbody>\n",
       "</table>\n",
       "<p>5 rows × 785 columns</p>\n",
       "</div>"
      ],
      "text/plain": [
       "   0  0.1  0.2  0.3  0.4  0.5  0.6  0.7  0.8  0.9  ...  0.639  0.640  0.641  \\\n",
       "0  0    0    0    0    0    0    0    0    0    0  ...      0      0      0   \n",
       "1  0    0    0    0    0    0    0    0    0    0  ...      0      0      0   \n",
       "2  0    0    0    0    0    0    0    0    0    0  ...      0      0      0   \n",
       "3  0    0    0    0    0    0    0    0    0    0  ...      0      0      0   \n",
       "4  0    0    0    0    0    0    0    0    0    0  ...      0      0      0   \n",
       "\n",
       "   0.642  0.643  0.644  0.645  0.646  0.647  0.648  \n",
       "0      0      0      0      0      0      0      0  \n",
       "1      0      0      0      0      0      0      0  \n",
       "2      0      0      0      0      0      0      0  \n",
       "3      0      0      0      0      0      0      0  \n",
       "4      0      0      0      0      0      0      0  \n",
       "\n",
       "[5 rows x 785 columns]"
      ]
     },
     "execution_count": 2,
     "metadata": {},
     "output_type": "execute_result"
    }
   ],
   "source": [
    "data3 = pd.read_csv(r\"E:\\My Doucuments\\Machine Learning\\HandWritten Digits Recognition\\A_Z Handwritten Data.csv\")\n",
    "data3.head()"
   ]
  },
  {
   "cell_type": "code",
   "execution_count": 4,
   "id": "9e537ce5",
   "metadata": {},
   "outputs": [
    {
     "data": {
      "text/plain": [
       "(372450, 785)"
      ]
     },
     "execution_count": 4,
     "metadata": {},
     "output_type": "execute_result"
    }
   ],
   "source": [
    "data3.shape"
   ]
  },
  {
   "cell_type": "code",
   "execution_count": 5,
   "id": "a3dec847",
   "metadata": {
    "scrolled": true
   },
   "outputs": [
    {
     "data": {
      "text/plain": [
       "array([  0,   2,  11,  49,  80,  90,  67, 219,   7,  26, 228, 150, 146],\n",
       "      dtype=int64)"
      ]
     },
     "execution_count": 5,
     "metadata": {},
     "output_type": "execute_result"
    }
   ],
   "source": [
    "data3.iloc[:,340].unique()"
   ]
  },
  {
   "cell_type": "code",
   "execution_count": 3,
   "id": "cd663ccf",
   "metadata": {},
   "outputs": [],
   "source": [
    "for i in range(0,data3.shape[0]):\n",
    "    data3.iloc[i,0] += 10"
   ]
  },
  {
   "cell_type": "code",
   "execution_count": 4,
   "id": "c2b44439",
   "metadata": {
    "scrolled": true
   },
   "outputs": [
    {
     "data": {
      "text/plain": [
       "array([10, 11, 12, 13, 14, 15, 16, 17, 18, 19, 20, 21, 22, 23, 24, 25, 26,\n",
       "       27, 28, 29, 30, 31, 32, 33, 34, 35], dtype=int64)"
      ]
     },
     "execution_count": 4,
     "metadata": {},
     "output_type": "execute_result"
    }
   ],
   "source": [
    "data3.iloc[:,0].unique()"
   ]
  },
  {
   "cell_type": "code",
   "execution_count": 10,
   "id": "607ef4f2",
   "metadata": {
    "scrolled": true
   },
   "outputs": [
    {
     "data": {
      "text/html": [
       "<div>\n",
       "<style scoped>\n",
       "    .dataframe tbody tr th:only-of-type {\n",
       "        vertical-align: middle;\n",
       "    }\n",
       "\n",
       "    .dataframe tbody tr th {\n",
       "        vertical-align: top;\n",
       "    }\n",
       "\n",
       "    .dataframe thead th {\n",
       "        text-align: right;\n",
       "    }\n",
       "</style>\n",
       "<table border=\"1\" class=\"dataframe\">\n",
       "  <thead>\n",
       "    <tr style=\"text-align: right;\">\n",
       "      <th></th>\n",
       "      <th>label</th>\n",
       "      <th>pixel0</th>\n",
       "      <th>pixel1</th>\n",
       "      <th>pixel2</th>\n",
       "      <th>pixel3</th>\n",
       "      <th>pixel4</th>\n",
       "      <th>pixel5</th>\n",
       "      <th>pixel6</th>\n",
       "      <th>pixel7</th>\n",
       "      <th>pixel8</th>\n",
       "      <th>...</th>\n",
       "      <th>pixel774</th>\n",
       "      <th>pixel775</th>\n",
       "      <th>pixel776</th>\n",
       "      <th>pixel777</th>\n",
       "      <th>pixel778</th>\n",
       "      <th>pixel779</th>\n",
       "      <th>pixel780</th>\n",
       "      <th>pixel781</th>\n",
       "      <th>pixel782</th>\n",
       "      <th>pixel783</th>\n",
       "    </tr>\n",
       "  </thead>\n",
       "  <tbody>\n",
       "    <tr>\n",
       "      <th>0</th>\n",
       "      <td>1</td>\n",
       "      <td>0</td>\n",
       "      <td>0</td>\n",
       "      <td>0</td>\n",
       "      <td>0</td>\n",
       "      <td>0</td>\n",
       "      <td>0</td>\n",
       "      <td>0</td>\n",
       "      <td>0</td>\n",
       "      <td>0</td>\n",
       "      <td>...</td>\n",
       "      <td>0</td>\n",
       "      <td>0</td>\n",
       "      <td>0</td>\n",
       "      <td>0</td>\n",
       "      <td>0</td>\n",
       "      <td>0</td>\n",
       "      <td>0</td>\n",
       "      <td>0</td>\n",
       "      <td>0</td>\n",
       "      <td>0</td>\n",
       "    </tr>\n",
       "    <tr>\n",
       "      <th>1</th>\n",
       "      <td>0</td>\n",
       "      <td>0</td>\n",
       "      <td>0</td>\n",
       "      <td>0</td>\n",
       "      <td>0</td>\n",
       "      <td>0</td>\n",
       "      <td>0</td>\n",
       "      <td>0</td>\n",
       "      <td>0</td>\n",
       "      <td>0</td>\n",
       "      <td>...</td>\n",
       "      <td>0</td>\n",
       "      <td>0</td>\n",
       "      <td>0</td>\n",
       "      <td>0</td>\n",
       "      <td>0</td>\n",
       "      <td>0</td>\n",
       "      <td>0</td>\n",
       "      <td>0</td>\n",
       "      <td>0</td>\n",
       "      <td>0</td>\n",
       "    </tr>\n",
       "    <tr>\n",
       "      <th>2</th>\n",
       "      <td>1</td>\n",
       "      <td>0</td>\n",
       "      <td>0</td>\n",
       "      <td>0</td>\n",
       "      <td>0</td>\n",
       "      <td>0</td>\n",
       "      <td>0</td>\n",
       "      <td>0</td>\n",
       "      <td>0</td>\n",
       "      <td>0</td>\n",
       "      <td>...</td>\n",
       "      <td>0</td>\n",
       "      <td>0</td>\n",
       "      <td>0</td>\n",
       "      <td>0</td>\n",
       "      <td>0</td>\n",
       "      <td>0</td>\n",
       "      <td>0</td>\n",
       "      <td>0</td>\n",
       "      <td>0</td>\n",
       "      <td>0</td>\n",
       "    </tr>\n",
       "    <tr>\n",
       "      <th>3</th>\n",
       "      <td>4</td>\n",
       "      <td>0</td>\n",
       "      <td>0</td>\n",
       "      <td>0</td>\n",
       "      <td>0</td>\n",
       "      <td>0</td>\n",
       "      <td>0</td>\n",
       "      <td>0</td>\n",
       "      <td>0</td>\n",
       "      <td>0</td>\n",
       "      <td>...</td>\n",
       "      <td>0</td>\n",
       "      <td>0</td>\n",
       "      <td>0</td>\n",
       "      <td>0</td>\n",
       "      <td>0</td>\n",
       "      <td>0</td>\n",
       "      <td>0</td>\n",
       "      <td>0</td>\n",
       "      <td>0</td>\n",
       "      <td>0</td>\n",
       "    </tr>\n",
       "    <tr>\n",
       "      <th>4</th>\n",
       "      <td>0</td>\n",
       "      <td>0</td>\n",
       "      <td>0</td>\n",
       "      <td>0</td>\n",
       "      <td>0</td>\n",
       "      <td>0</td>\n",
       "      <td>0</td>\n",
       "      <td>0</td>\n",
       "      <td>0</td>\n",
       "      <td>0</td>\n",
       "      <td>...</td>\n",
       "      <td>0</td>\n",
       "      <td>0</td>\n",
       "      <td>0</td>\n",
       "      <td>0</td>\n",
       "      <td>0</td>\n",
       "      <td>0</td>\n",
       "      <td>0</td>\n",
       "      <td>0</td>\n",
       "      <td>0</td>\n",
       "      <td>0</td>\n",
       "    </tr>\n",
       "  </tbody>\n",
       "</table>\n",
       "<p>5 rows × 785 columns</p>\n",
       "</div>"
      ],
      "text/plain": [
       "   label  pixel0  pixel1  pixel2  pixel3  pixel4  pixel5  pixel6  pixel7  \\\n",
       "0      1       0       0       0       0       0       0       0       0   \n",
       "1      0       0       0       0       0       0       0       0       0   \n",
       "2      1       0       0       0       0       0       0       0       0   \n",
       "3      4       0       0       0       0       0       0       0       0   \n",
       "4      0       0       0       0       0       0       0       0       0   \n",
       "\n",
       "   pixel8  ...  pixel774  pixel775  pixel776  pixel777  pixel778  pixel779  \\\n",
       "0       0  ...         0         0         0         0         0         0   \n",
       "1       0  ...         0         0         0         0         0         0   \n",
       "2       0  ...         0         0         0         0         0         0   \n",
       "3       0  ...         0         0         0         0         0         0   \n",
       "4       0  ...         0         0         0         0         0         0   \n",
       "\n",
       "   pixel780  pixel781  pixel782  pixel783  \n",
       "0         0         0         0         0  \n",
       "1         0         0         0         0  \n",
       "2         0         0         0         0  \n",
       "3         0         0         0         0  \n",
       "4         0         0         0         0  \n",
       "\n",
       "[5 rows x 785 columns]"
      ]
     },
     "execution_count": 10,
     "metadata": {},
     "output_type": "execute_result"
    }
   ],
   "source": [
    "data_train = pd.read_csv(r\"E:\\My Doucuments\\Machine Learning\\HandWritten Digits Recognition\\train.csv\")\n",
    "data_train.head()"
   ]
  },
  {
   "cell_type": "code",
   "execution_count": 11,
   "id": "7ae4cea9",
   "metadata": {
    "scrolled": true
   },
   "outputs": [
    {
     "data": {
      "text/html": [
       "<div>\n",
       "<style scoped>\n",
       "    .dataframe tbody tr th:only-of-type {\n",
       "        vertical-align: middle;\n",
       "    }\n",
       "\n",
       "    .dataframe tbody tr th {\n",
       "        vertical-align: top;\n",
       "    }\n",
       "\n",
       "    .dataframe thead th {\n",
       "        text-align: right;\n",
       "    }\n",
       "</style>\n",
       "<table border=\"1\" class=\"dataframe\">\n",
       "  <thead>\n",
       "    <tr style=\"text-align: right;\">\n",
       "      <th></th>\n",
       "      <th>pixel0</th>\n",
       "      <th>pixel1</th>\n",
       "      <th>pixel2</th>\n",
       "      <th>pixel3</th>\n",
       "      <th>pixel4</th>\n",
       "      <th>pixel5</th>\n",
       "      <th>pixel6</th>\n",
       "      <th>pixel7</th>\n",
       "      <th>pixel8</th>\n",
       "      <th>pixel9</th>\n",
       "      <th>...</th>\n",
       "      <th>pixel774</th>\n",
       "      <th>pixel775</th>\n",
       "      <th>pixel776</th>\n",
       "      <th>pixel777</th>\n",
       "      <th>pixel778</th>\n",
       "      <th>pixel779</th>\n",
       "      <th>pixel780</th>\n",
       "      <th>pixel781</th>\n",
       "      <th>pixel782</th>\n",
       "      <th>pixel783</th>\n",
       "    </tr>\n",
       "  </thead>\n",
       "  <tbody>\n",
       "    <tr>\n",
       "      <th>0</th>\n",
       "      <td>0</td>\n",
       "      <td>0</td>\n",
       "      <td>0</td>\n",
       "      <td>0</td>\n",
       "      <td>0</td>\n",
       "      <td>0</td>\n",
       "      <td>0</td>\n",
       "      <td>0</td>\n",
       "      <td>0</td>\n",
       "      <td>0</td>\n",
       "      <td>...</td>\n",
       "      <td>0</td>\n",
       "      <td>0</td>\n",
       "      <td>0</td>\n",
       "      <td>0</td>\n",
       "      <td>0</td>\n",
       "      <td>0</td>\n",
       "      <td>0</td>\n",
       "      <td>0</td>\n",
       "      <td>0</td>\n",
       "      <td>0</td>\n",
       "    </tr>\n",
       "    <tr>\n",
       "      <th>1</th>\n",
       "      <td>0</td>\n",
       "      <td>0</td>\n",
       "      <td>0</td>\n",
       "      <td>0</td>\n",
       "      <td>0</td>\n",
       "      <td>0</td>\n",
       "      <td>0</td>\n",
       "      <td>0</td>\n",
       "      <td>0</td>\n",
       "      <td>0</td>\n",
       "      <td>...</td>\n",
       "      <td>0</td>\n",
       "      <td>0</td>\n",
       "      <td>0</td>\n",
       "      <td>0</td>\n",
       "      <td>0</td>\n",
       "      <td>0</td>\n",
       "      <td>0</td>\n",
       "      <td>0</td>\n",
       "      <td>0</td>\n",
       "      <td>0</td>\n",
       "    </tr>\n",
       "    <tr>\n",
       "      <th>2</th>\n",
       "      <td>0</td>\n",
       "      <td>0</td>\n",
       "      <td>0</td>\n",
       "      <td>0</td>\n",
       "      <td>0</td>\n",
       "      <td>0</td>\n",
       "      <td>0</td>\n",
       "      <td>0</td>\n",
       "      <td>0</td>\n",
       "      <td>0</td>\n",
       "      <td>...</td>\n",
       "      <td>0</td>\n",
       "      <td>0</td>\n",
       "      <td>0</td>\n",
       "      <td>0</td>\n",
       "      <td>0</td>\n",
       "      <td>0</td>\n",
       "      <td>0</td>\n",
       "      <td>0</td>\n",
       "      <td>0</td>\n",
       "      <td>0</td>\n",
       "    </tr>\n",
       "    <tr>\n",
       "      <th>3</th>\n",
       "      <td>0</td>\n",
       "      <td>0</td>\n",
       "      <td>0</td>\n",
       "      <td>0</td>\n",
       "      <td>0</td>\n",
       "      <td>0</td>\n",
       "      <td>0</td>\n",
       "      <td>0</td>\n",
       "      <td>0</td>\n",
       "      <td>0</td>\n",
       "      <td>...</td>\n",
       "      <td>0</td>\n",
       "      <td>0</td>\n",
       "      <td>0</td>\n",
       "      <td>0</td>\n",
       "      <td>0</td>\n",
       "      <td>0</td>\n",
       "      <td>0</td>\n",
       "      <td>0</td>\n",
       "      <td>0</td>\n",
       "      <td>0</td>\n",
       "    </tr>\n",
       "    <tr>\n",
       "      <th>4</th>\n",
       "      <td>0</td>\n",
       "      <td>0</td>\n",
       "      <td>0</td>\n",
       "      <td>0</td>\n",
       "      <td>0</td>\n",
       "      <td>0</td>\n",
       "      <td>0</td>\n",
       "      <td>0</td>\n",
       "      <td>0</td>\n",
       "      <td>0</td>\n",
       "      <td>...</td>\n",
       "      <td>0</td>\n",
       "      <td>0</td>\n",
       "      <td>0</td>\n",
       "      <td>0</td>\n",
       "      <td>0</td>\n",
       "      <td>0</td>\n",
       "      <td>0</td>\n",
       "      <td>0</td>\n",
       "      <td>0</td>\n",
       "      <td>0</td>\n",
       "    </tr>\n",
       "  </tbody>\n",
       "</table>\n",
       "<p>5 rows × 784 columns</p>\n",
       "</div>"
      ],
      "text/plain": [
       "   pixel0  pixel1  pixel2  pixel3  pixel4  pixel5  pixel6  pixel7  pixel8  \\\n",
       "0       0       0       0       0       0       0       0       0       0   \n",
       "1       0       0       0       0       0       0       0       0       0   \n",
       "2       0       0       0       0       0       0       0       0       0   \n",
       "3       0       0       0       0       0       0       0       0       0   \n",
       "4       0       0       0       0       0       0       0       0       0   \n",
       "\n",
       "   pixel9  ...  pixel774  pixel775  pixel776  pixel777  pixel778  pixel779  \\\n",
       "0       0  ...         0         0         0         0         0         0   \n",
       "1       0  ...         0         0         0         0         0         0   \n",
       "2       0  ...         0         0         0         0         0         0   \n",
       "3       0  ...         0         0         0         0         0         0   \n",
       "4       0  ...         0         0         0         0         0         0   \n",
       "\n",
       "   pixel780  pixel781  pixel782  pixel783  \n",
       "0         0         0         0         0  \n",
       "1         0         0         0         0  \n",
       "2         0         0         0         0  \n",
       "3         0         0         0         0  \n",
       "4         0         0         0         0  \n",
       "\n",
       "[5 rows x 784 columns]"
      ]
     },
     "execution_count": 11,
     "metadata": {},
     "output_type": "execute_result"
    }
   ],
   "source": [
    "data_test = pd.read_csv(r\"E:\\My Doucuments\\Machine Learning\\HandWritten Digits Recognition\\test.csv\")\n",
    "data_test.head()"
   ]
  },
  {
   "cell_type": "code",
   "execution_count": 10,
   "id": "8efac96d",
   "metadata": {},
   "outputs": [
    {
     "data": {
      "text/plain": [
       "(28000, 784)"
      ]
     },
     "execution_count": 10,
     "metadata": {},
     "output_type": "execute_result"
    }
   ],
   "source": [
    "data_test.shape"
   ]
  },
  {
   "cell_type": "code",
   "execution_count": 12,
   "id": "d2caffcd",
   "metadata": {},
   "outputs": [],
   "source": [
    "X = data_train.drop(['label'], axis = 1)"
   ]
  },
  {
   "cell_type": "code",
   "execution_count": 13,
   "id": "e76b9fd4",
   "metadata": {},
   "outputs": [],
   "source": [
    "y = data_train['label']"
   ]
  },
  {
   "cell_type": "code",
   "execution_count": 3,
   "id": "ffb50f45",
   "metadata": {},
   "outputs": [],
   "source": [
    "X3 = data3.drop(['0'], axis = 1)"
   ]
  },
  {
   "cell_type": "code",
   "execution_count": 4,
   "id": "d85c8a22",
   "metadata": {},
   "outputs": [],
   "source": [
    "y3 = data3['0']"
   ]
  },
  {
   "cell_type": "code",
   "execution_count": 5,
   "id": "eb7a8bef",
   "metadata": {},
   "outputs": [],
   "source": [
    "del data3"
   ]
  },
  {
   "cell_type": "code",
   "execution_count": 6,
   "id": "6c4a3c29",
   "metadata": {},
   "outputs": [
    {
     "data": {
      "text/plain": [
       "22"
      ]
     },
     "execution_count": 6,
     "metadata": {},
     "output_type": "execute_result"
    }
   ],
   "source": [
    "import gc\n",
    "gc.collect()"
   ]
  },
  {
   "cell_type": "markdown",
   "id": "0609bc42",
   "metadata": {},
   "source": [
    "## Splitting the data"
   ]
  },
  {
   "cell_type": "code",
   "execution_count": 21,
   "id": "72713f79",
   "metadata": {},
   "outputs": [],
   "source": [
    "X_train, X_test,y_train, y_test = train_test_split(X,y,random_state = 934, test_size = 0.4)"
   ]
  },
  {
   "cell_type": "code",
   "execution_count": 7,
   "id": "47c0d5bc",
   "metadata": {
    "scrolled": true
   },
   "outputs": [],
   "source": [
    "X3_train, X3_test,y3_train, y3_test = train_test_split(X3,y3,random_state = 1024, test_size = 0.4)"
   ]
  },
  {
   "cell_type": "code",
   "execution_count": 13,
   "id": "b75c349b",
   "metadata": {},
   "outputs": [
    {
     "data": {
      "text/plain": [
       "0"
      ]
     },
     "execution_count": 13,
     "metadata": {},
     "output_type": "execute_result"
    }
   ],
   "source": [
    "del X3,y3,X,y\n",
    "gc.collect()"
   ]
  },
  {
   "cell_type": "code",
   "execution_count": 10,
   "id": "0cfc7474",
   "metadata": {},
   "outputs": [
    {
     "name": "stdout",
     "output_type": "stream",
     "text": [
      "(223470, 784) (223470,)\n"
     ]
    }
   ],
   "source": [
    "print(X3_train.shape,y3_train.shape)"
   ]
  },
  {
   "cell_type": "code",
   "execution_count": 25,
   "id": "2e002494",
   "metadata": {},
   "outputs": [
    {
     "name": "stdout",
     "output_type": "stream",
     "text": [
      "(148980, 784) (148980,)\n"
     ]
    }
   ],
   "source": [
    "print(X3_test.shape,y3_test.shape)"
   ]
  },
  {
   "cell_type": "code",
   "execution_count": 26,
   "id": "ae7c77d3",
   "metadata": {
    "scrolled": true
   },
   "outputs": [
    {
     "name": "stdout",
     "output_type": "stream",
     "text": [
      "(25200, 784) (25200,)\n"
     ]
    }
   ],
   "source": [
    "print(X_train.shape,y_train.shape)"
   ]
  },
  {
   "cell_type": "code",
   "execution_count": 27,
   "id": "79ca97db",
   "metadata": {
    "scrolled": true
   },
   "outputs": [
    {
     "name": "stdout",
     "output_type": "stream",
     "text": [
      "(16800, 784) (16800,)\n"
     ]
    }
   ],
   "source": [
    "print(X_test.shape,y_test.shape)"
   ]
  },
  {
   "cell_type": "markdown",
   "id": "308b95a9",
   "metadata": {},
   "source": [
    "## Plotting the images using matpot library"
   ]
  },
  {
   "cell_type": "markdown",
   "id": "f3a9eab6",
   "metadata": {},
   "source": [
    "#### Kaggle Dataset"
   ]
  },
  {
   "cell_type": "code",
   "execution_count": 21,
   "id": "47588ea3",
   "metadata": {
    "scrolled": true
   },
   "outputs": [
    {
     "data": {
      "image/png": "[encoded data removed]",
      "text/plain": [
       "<Figure size 288x288 with 1 Axes>"
      ]
     },
     "metadata": {
      "needs_background": "light"
     },
     "output_type": "display_data"
    },
    {
     "data": {
      "image/png": "[encoded data removed]",
      "text/plain": [
       "<Figure size 288x288 with 1 Axes>"
      ]
     },
     "metadata": {
      "needs_background": "light"
     },
     "output_type": "display_data"
    },
    {
     "data": {
      "image/png": "[encoded data removed]",
      "text/plain": [
       "<Figure size 288x288 with 1 Axes>"
      ]
     },
     "metadata": {
      "needs_background": "light"
     },
     "output_type": "display_data"
    },
    {
     "data": {
      "image/png": "[encoded data removed]",
      "text/plain": [
       "<Figure size 288x288 with 1 Axes>"
      ]
     },
     "metadata": {
      "needs_background": "light"
     },
     "output_type": "display_data"
    },
    {
     "data": {
      "image/png": "[encoded data removed]",
      "text/plain": [
       "<Figure size 288x288 with 1 Axes>"
      ]
     },
     "metadata": {
      "needs_background": "light"
     },
     "output_type": "display_data"
    },
    {
     "data": {
      "image/png": "[encoded data removed]",
      "text/plain": [
       "<Figure size 288x288 with 1 Axes>"
      ]
     },
     "metadata": {
      "needs_background": "light"
     },
     "output_type": "display_data"
    },
    {
     "data": {
      "image/png": "[encoded data removed]",
      "text/plain": [
       "<Figure size 288x288 with 1 Axes>"
      ]
     },
     "metadata": {
      "needs_background": "light"
     },
     "output_type": "display_data"
    },
    {
     "data": {
      "image/png": "[encoded data removed]",
      "text/plain": [
       "<Figure size 288x288 with 1 Axes>"
      ]
     },
     "metadata": {
      "needs_background": "light"
     },
     "output_type": "display_data"
    },
    {
     "data": {
      "image/png": "[encoded data removed]",
      "text/plain": [
       "<Figure size 288x288 with 1 Axes>"
      ]
     },
     "metadata": {
      "needs_background": "light"
     },
     "output_type": "display_data"
    },
    {
     "data": {
      "image/png": "[encoded data removed]",
      "text/plain": [
       "<Figure size 288x288 with 1 Axes>"
      ]
     },
     "metadata": {
      "needs_background": "light"
     },
     "output_type": "display_data"
    }
   ],
   "source": [
    "for i in range(0,10):\n",
    "    plt.matshow(data_test.loc[i].to_numpy().reshape(28,28))"
   ]
  },
  {
   "cell_type": "markdown",
   "id": "14c16cbc",
   "metadata": {},
   "source": [
    "#### MNIST Dataset"
   ]
  },
  {
   "cell_type": "code",
   "execution_count": 22,
   "id": "3496392e",
   "metadata": {
    "scrolled": true
   },
   "outputs": [
    {
     "data": {
      "image/png": "[encoded data removed]",
      "text/plain": [
       "<Figure size 288x288 with 1 Axes>"
      ]
     },
     "metadata": {
      "needs_background": "light"
     },
     "output_type": "display_data"
    },
    {
     "data": {
      "image/png": "[encoded data removed]",
      "text/plain": [
       "<Figure size 288x288 with 1 Axes>"
      ]
     },
     "metadata": {
      "needs_background": "light"
     },
     "output_type": "display_data"
    },
    {
     "data": {
      "image/png": "[encoded data removed]",
      "text/plain": [
       "<Figure size 288x288 with 1 Axes>"
      ]
     },
     "metadata": {
      "needs_background": "light"
     },
     "output_type": "display_data"
    },
    {
     "data": {
      "image/png": "[encoded data removed]",
      "text/plain": [
       "<Figure size 288x288 with 1 Axes>"
      ]
     },
     "metadata": {
      "needs_background": "light"
     },
     "output_type": "display_data"
    },
    {
     "data": {
      "image/png": "[encoded data removed]",
      "text/plain": [
       "<Figure size 288x288 with 1 Axes>"
      ]
     },
     "metadata": {
      "needs_background": "light"
     },
     "output_type": "display_data"
    },
    {
     "data": {
      "image/png": "[encoded data removed]",
      "text/plain": [
       "<Figure size 288x288 with 1 Axes>"
      ]
     },
     "metadata": {
      "needs_background": "light"
     },
     "output_type": "display_data"
    },
    {
     "data": {
      "image/png": "[encoded data removed]",
      "text/plain": [
       "<Figure size 288x288 with 1 Axes>"
      ]
     },
     "metadata": {
      "needs_background": "light"
     },
     "output_type": "display_data"
    },
    {
     "data": {
      "image/png": "[encoded data removed]",
      "text/plain": [
       "<Figure size 288x288 with 1 Axes>"
      ]
     },
     "metadata": {
      "needs_background": "light"
     },
     "output_type": "display_data"
    },
    {
     "data": {
      "image/png": "[encoded data removed]",
      "text/plain": [
       "<Figure size 288x288 with 1 Axes>"
      ]
     },
     "metadata": {
      "needs_background": "light"
     },
     "output_type": "display_data"
    },
    {
     "data": {
      "image/png": "[encoded data removed]",
      "text/plain": [
       "<Figure size 288x288 with 1 Axes>"
      ]
     },
     "metadata": {
      "needs_background": "light"
     },
     "output_type": "display_data"
    }
   ],
   "source": [
    "for i in range(0,10):\n",
    "    plt.matshow(X2_test[i])"
   ]
  },
  {
   "cell_type": "markdown",
   "id": "b810238c",
   "metadata": {},
   "source": [
    "### Alphabets Dataset"
   ]
  },
  {
   "cell_type": "code",
   "execution_count": 38,
   "id": "5a39ddb0",
   "metadata": {
    "scrolled": true
   },
   "outputs": [
    {
     "data": {
      "image/png": "[encoded data removed]",
      "text/plain": [
       "<Figure size 288x288 with 1 Axes>"
      ]
     },
     "metadata": {
      "needs_background": "light"
     },
     "output_type": "display_data"
    },
    {
     "data": {
      "image/png": "[encoded data removed]",
      "text/plain": [
       "<Figure size 288x288 with 1 Axes>"
      ]
     },
     "metadata": {
      "needs_background": "light"
     },
     "output_type": "display_data"
    },
    {
     "data": {
      "image/png": "[encoded data removed]",
      "text/plain": [
       "<Figure size 288x288 with 1 Axes>"
      ]
     },
     "metadata": {
      "needs_background": "light"
     },
     "output_type": "display_data"
    },
    {
     "data": {
      "image/png": "[encoded data removed]",
      "text/plain": [
       "<Figure size 288x288 with 1 Axes>"
      ]
     },
     "metadata": {
      "needs_background": "light"
     },
     "output_type": "display_data"
    },
    {
     "data": {
      "image/png": "[encoded data removed]",
      "text/plain": [
       "<Figure size 288x288 with 1 Axes>"
      ]
     },
     "metadata": {
      "needs_background": "light"
     },
     "output_type": "display_data"
    }
   ],
   "source": [
    "for i in range(0,1000,200):\n",
    "    plt.matshow(X3.loc[i].to_numpy().reshape(28,28))"
   ]
  },
  {
   "cell_type": "markdown",
   "id": "e3d31d01",
   "metadata": {},
   "source": [
    "## Concatenating the training and testing sets"
   ]
  },
  {
   "cell_type": "code",
   "execution_count": 28,
   "id": "73ea0078",
   "metadata": {
    "scrolled": true
   },
   "outputs": [
    {
     "data": {
      "text/plain": [
       "(10000, 28, 28)"
      ]
     },
     "execution_count": 28,
     "metadata": {},
     "output_type": "execute_result"
    }
   ],
   "source": [
    "X2_test.shape"
   ]
  },
  {
   "cell_type": "code",
   "execution_count": 29,
   "id": "5479c082",
   "metadata": {
    "scrolled": true
   },
   "outputs": [
    {
     "data": {
      "text/plain": [
       "(60000, 28, 28)"
      ]
     },
     "execution_count": 29,
     "metadata": {},
     "output_type": "execute_result"
    }
   ],
   "source": [
    "X2_train.shape"
   ]
  },
  {
   "cell_type": "code",
   "execution_count": 30,
   "id": "28ab6f1f",
   "metadata": {},
   "outputs": [],
   "source": [
    "X2_test = pd.DataFrame(X2_test.reshape(10000,784))\n",
    "y2_test = pd.DataFrame(y2_test.reshape(10000))\n",
    "X2_train = pd.DataFrame(X2_train.reshape(60000,784))\n",
    "y2_train = pd.DataFrame(y2_train.reshape(60000))"
   ]
  },
  {
   "cell_type": "code",
   "execution_count": 31,
   "id": "16101fab",
   "metadata": {},
   "outputs": [
    {
     "name": "stdout",
     "output_type": "stream",
     "text": [
      "(25200, 784) (16800, 784)\n"
     ]
    }
   ],
   "source": [
    "print(X_train.shape,X_test.shape)"
   ]
  },
  {
   "cell_type": "code",
   "execution_count": 32,
   "id": "7ab3dc3c",
   "metadata": {
    "scrolled": true
   },
   "outputs": [
    {
     "name": "stdout",
     "output_type": "stream",
     "text": [
      "(60000, 784) (10000, 784)\n"
     ]
    }
   ],
   "source": [
    "print(X2_train.shape,X2_test.shape)"
   ]
  },
  {
   "cell_type": "code",
   "execution_count": 33,
   "id": "f063947e",
   "metadata": {
    "scrolled": false
   },
   "outputs": [
    {
     "name": "stdout",
     "output_type": "stream",
     "text": [
      "(223470, 784) (148980, 784)\n"
     ]
    }
   ],
   "source": [
    "print(X3_train.shape,X3_test.shape)"
   ]
  },
  {
   "cell_type": "code",
   "execution_count": 34,
   "id": "ce2f4317",
   "metadata": {},
   "outputs": [],
   "source": [
    "for i in range(0,784):\n",
    "    X_train.rename(columns = {f\"pixel{i}\":i}, inplace = True)\n",
    "    X_test.rename(columns = {f\"pixel{i}\":i}, inplace = True)"
   ]
  },
  {
   "cell_type": "code",
   "execution_count": 35,
   "id": "084ab39e",
   "metadata": {},
   "outputs": [],
   "source": [
    "for i in range(0,784):\n",
    "    X3_train.rename(columns = {X3_train.columns[i]:i}, inplace = True)\n",
    "    X3_test.rename(columns = {X3_test.columns[i]:i}, inplace = True)"
   ]
  },
  {
   "cell_type": "code",
   "execution_count": 36,
   "id": "a9fd884f",
   "metadata": {
    "scrolled": false
   },
   "outputs": [
    {
     "data": {
      "text/plain": [
       "Int64Index([  0,   1,   2,   3,   4,   5,   6,   7,   8,   9,\n",
       "            ...\n",
       "            774, 775, 776, 777, 778, 779, 780, 781, 782, 783],\n",
       "           dtype='int64', length=784)"
      ]
     },
     "execution_count": 36,
     "metadata": {},
     "output_type": "execute_result"
    }
   ],
   "source": [
    "X_train.columns"
   ]
  },
  {
   "cell_type": "code",
   "execution_count": 37,
   "id": "b8a17e49",
   "metadata": {},
   "outputs": [
    {
     "data": {
      "text/plain": [
       "RangeIndex(start=0, stop=784, step=1)"
      ]
     },
     "execution_count": 37,
     "metadata": {},
     "output_type": "execute_result"
    }
   ],
   "source": [
    "X2_train.columns"
   ]
  },
  {
   "cell_type": "code",
   "execution_count": 38,
   "id": "3cc45546",
   "metadata": {
    "scrolled": false
   },
   "outputs": [
    {
     "name": "stdout",
     "output_type": "stream",
     "text": [
      "(223470, 784) (148980, 784)\n"
     ]
    }
   ],
   "source": [
    "print(X3_train.shape,X3_test.shape)"
   ]
  },
  {
   "cell_type": "code",
   "execution_count": 39,
   "id": "29ca580b",
   "metadata": {},
   "outputs": [],
   "source": [
    "for i in range(0,784):\n",
    "    X3_train.iloc[i,:]  = X3_train.iloc[i,:] "
   ]
  },
  {
   "cell_type": "code",
   "execution_count": 40,
   "id": "15ffe6ec",
   "metadata": {},
   "outputs": [
    {
     "data": {
      "text/plain": [
       "(223470, 784)"
      ]
     },
     "execution_count": 40,
     "metadata": {},
     "output_type": "execute_result"
    }
   ],
   "source": [
    "X3_train.shape"
   ]
  },
  {
   "cell_type": "code",
   "execution_count": 41,
   "id": "c0942515",
   "metadata": {},
   "outputs": [],
   "source": [
    "X3_train = pd.concat([X_train,X2_train,X3_train],axis = 0, ignore_index = True)"
   ]
  },
  {
   "cell_type": "code",
   "execution_count": 42,
   "id": "e9ddc1eb",
   "metadata": {},
   "outputs": [],
   "source": [
    "y3_train = pd.concat([y_train,y2_train,y3_train], axis = 0)"
   ]
  },
  {
   "cell_type": "code",
   "execution_count": 43,
   "id": "e55e9681",
   "metadata": {},
   "outputs": [
    {
     "data": {
      "text/plain": [
       "0"
      ]
     },
     "execution_count": 43,
     "metadata": {},
     "output_type": "execute_result"
    }
   ],
   "source": [
    "del X_train,X2_train,y_train,y2_train\n",
    "gc.collect()"
   ]
  },
  {
   "cell_type": "code",
   "execution_count": 44,
   "id": "d1b68575",
   "metadata": {},
   "outputs": [],
   "source": [
    "for i in range(0,784):\n",
    "    X3_test.iloc[i,:]  = X3_test.iloc[i,:] "
   ]
  },
  {
   "cell_type": "code",
   "execution_count": 45,
   "id": "0ffab17f",
   "metadata": {},
   "outputs": [
    {
     "data": {
      "text/plain": [
       "Int64Index([  0,   1,   2,   3,   4,   5,   6,   7,   8,   9,\n",
       "            ...\n",
       "            774, 775, 776, 777, 778, 779, 780, 781, 782, 783],\n",
       "           dtype='int64', length=784)"
      ]
     },
     "execution_count": 45,
     "metadata": {},
     "output_type": "execute_result"
    }
   ],
   "source": [
    "X3_test.columns"
   ]
  },
  {
   "cell_type": "code",
   "execution_count": 46,
   "id": "6f4fe371",
   "metadata": {},
   "outputs": [],
   "source": [
    "X3_test = pd.concat([X_test,X2_test,X3_test], axis = 0)"
   ]
  },
  {
   "cell_type": "code",
   "execution_count": 47,
   "id": "5407ccca",
   "metadata": {},
   "outputs": [],
   "source": [
    "y3_test = pd.concat([y_test, y2_test,y3_test], axis = 0)"
   ]
  },
  {
   "cell_type": "code",
   "execution_count": 48,
   "id": "5ead4d42",
   "metadata": {},
   "outputs": [
    {
     "data": {
      "text/plain": [
       "0"
      ]
     },
     "execution_count": 48,
     "metadata": {},
     "output_type": "execute_result"
    }
   ],
   "source": [
    "del X_test,X2_test,y_test,y2_test\n",
    "gc.collect()"
   ]
  },
  {
   "cell_type": "code",
   "execution_count": 49,
   "id": "1387a6ab",
   "metadata": {},
   "outputs": [
    {
     "name": "stdout",
     "output_type": "stream",
     "text": [
      "(308670, 784) (308670, 1)\n"
     ]
    }
   ],
   "source": [
    "print(X3_train.shape,y3_train.shape)"
   ]
  },
  {
   "cell_type": "code",
   "execution_count": 50,
   "id": "045283e8",
   "metadata": {},
   "outputs": [
    {
     "name": "stdout",
     "output_type": "stream",
     "text": [
      "(175780, 784) (175780, 1)\n"
     ]
    }
   ],
   "source": [
    "print(X3_test.shape,y3_test.shape)"
   ]
  },
  {
   "cell_type": "code",
   "execution_count": 3,
   "id": "b2a99e02",
   "metadata": {
    "scrolled": true
   },
   "outputs": [
    {
     "ename": "NameError",
     "evalue": "name 'X3_train' is not defined",
     "output_type": "error",
     "traceback": [
      "\u001b[1;31m---------------------------------------------------------------------------\u001b[0m",
      "\u001b[1;31mNameError\u001b[0m                                 Traceback (most recent call last)",
      "Input \u001b[1;32mIn [3]\u001b[0m, in \u001b[0;36m<cell line: 1>\u001b[1;34m()\u001b[0m\n\u001b[1;32m----> 1\u001b[0m \u001b[43mX3_train\u001b[49m\u001b[38;5;241m.\u001b[39mto_csv(\u001b[38;5;124mr\u001b[39m\u001b[38;5;124m\"\u001b[39m\u001b[38;5;124mE:\u001b[39m\u001b[38;5;124m\\\u001b[39m\u001b[38;5;124mMy Doucuments\u001b[39m\u001b[38;5;124m\\\u001b[39m\u001b[38;5;124mMachine Learning\u001b[39m\u001b[38;5;124m\\\u001b[39m\u001b[38;5;124mHandWritten Digits Recognition\u001b[39m\u001b[38;5;124m\\\u001b[39m\u001b[38;5;124mX_train.csv\u001b[39m\u001b[38;5;124m\"\u001b[39m)\n",
      "\u001b[1;31mNameError\u001b[0m: name 'X3_train' is not defined"
     ]
    }
   ],
   "source": [
    "X3_train.to_csv(r\"E:\\My Doucuments\\Machine Learning\\HandWritten Digits Recognition\\X_train.csv\")"
   ]
  },
  {
   "cell_type": "code",
   "execution_count": 52,
   "id": "51bea4b8",
   "metadata": {},
   "outputs": [],
   "source": [
    "y3_train.to_csv(r\"E:\\My Doucuments\\Machine Learning\\HandWritten Digits Recognition\\y_train.csv\")"
   ]
  },
  {
   "cell_type": "code",
   "execution_count": 53,
   "id": "a90d440e",
   "metadata": {},
   "outputs": [],
   "source": [
    "X3_test.to_csv(r\"E:\\My Doucuments\\Machine Learning\\HandWritten Digits Recognition\\X_test.csv\")"
   ]
  },
  {
   "cell_type": "code",
   "execution_count": 54,
   "id": "bf745706",
   "metadata": {},
   "outputs": [],
   "source": [
    "y3_test.to_csv(r\"E:\\My Doucuments\\Machine Learning\\HandWritten Digits Recognition\\y_test.csv\")"
   ]
  },
  {
   "cell_type": "code",
   "execution_count": 4,
   "id": "bac01e12",
   "metadata": {},
   "outputs": [
    {
     "data": {
      "text/plain": [
       "(308670, 784)"
      ]
     },
     "execution_count": 4,
     "metadata": {},
     "output_type": "execute_result"
    }
   ],
   "source": [
    "X3_train = pd.read_csv(r\"E:\\My Doucuments\\Machine Learning\\HandWritten Digits Recognition\\X_train.csv\",index_col=0)\n",
    "X3_train.shape"
   ]
  },
  {
   "cell_type": "code",
   "execution_count": 5,
   "id": "5c9309c0",
   "metadata": {},
   "outputs": [
    {
     "data": {
      "text/plain": [
       "(308670, 1)"
      ]
     },
     "execution_count": 5,
     "metadata": {},
     "output_type": "execute_result"
    }
   ],
   "source": [
    "y3_train = pd.read_csv(r\"E:\\My Doucuments\\Machine Learning\\HandWritten Digits Recognition\\y_train.csv\",index_col=0)\n",
    "y3_train.shape"
   ]
  },
  {
   "cell_type": "code",
   "execution_count": 6,
   "id": "4796b5e9",
   "metadata": {},
   "outputs": [
    {
     "data": {
      "text/plain": [
       "(175780, 784)"
      ]
     },
     "execution_count": 6,
     "metadata": {},
     "output_type": "execute_result"
    }
   ],
   "source": [
    "X3_test = pd.read_csv(r\"E:\\My Doucuments\\Machine Learning\\HandWritten Digits Recognition\\X_test.csv\",index_col=0)\n",
    "X3_test.shape"
   ]
  },
  {
   "cell_type": "code",
   "execution_count": 7,
   "id": "2b2b7d4d",
   "metadata": {},
   "outputs": [
    {
     "data": {
      "text/plain": [
       "(175780, 1)"
      ]
     },
     "execution_count": 7,
     "metadata": {},
     "output_type": "execute_result"
    }
   ],
   "source": [
    "y3_test = pd.read_csv(r\"E:\\My Doucuments\\Machine Learning\\HandWritten Digits Recognition\\y_test.csv\",index_col=0)\n",
    "y3_test.shape"
   ]
  },
  {
   "cell_type": "code",
   "execution_count": 55,
   "id": "4814d120",
   "metadata": {},
   "outputs": [
    {
     "data": {
      "text/plain": [
       "0"
      ]
     },
     "execution_count": 55,
     "metadata": {},
     "output_type": "execute_result"
    }
   ],
   "source": [
    "del X3_train,y3_train,X3_test,y3_test\n",
    "gc.collect()"
   ]
  },
  {
   "cell_type": "markdown",
   "id": "c733ff89",
   "metadata": {},
   "source": [
    "# Model Creation"
   ]
  },
  {
   "cell_type": "markdown",
   "id": "4790977a",
   "metadata": {},
   "source": [
    "### Iteration 1:\n",
    "#### Without scaling \n",
    "#### layers: 1\n",
    "#### Epochs: 5"
   ]
  },
  {
   "cell_type": "code",
   "execution_count": 18,
   "id": "d85b5072",
   "metadata": {
    "scrolled": true
   },
   "outputs": [
    {
     "name": "stdout",
     "output_type": "stream",
     "text": [
      "Epoch 1/5\n",
      "788/788 [==============================] - 1s 861us/step - loss: 0.6304 - accuracy: 0.8425\n",
      "Epoch 2/5\n",
      "788/788 [==============================] - 1s 846us/step - loss: 0.3544 - accuracy: 0.9040\n",
      "Epoch 3/5\n",
      "788/788 [==============================] - 1s 835us/step - loss: 0.3162 - accuracy: 0.9117\n",
      "Epoch 4/5\n",
      "788/788 [==============================] - 1s 833us/step - loss: 0.2960 - accuracy: 0.9175\n",
      "Epoch 5/5\n",
      "788/788 [==============================] - 1s 888us/step - loss: 0.2840 - accuracy: 0.9202\n"
     ]
    },
    {
     "data": {
      "text/plain": [
       "<keras.callbacks.History at 0x17ab2dafe50>"
      ]
     },
     "execution_count": 18,
     "metadata": {},
     "output_type": "execute_result"
    }
   ],
   "source": [
    "model1 = keras.Sequential([\n",
    "    keras.layers.Dense(10, input_shape = (784,), activation = 'sigmoid')\n",
    "])\n",
    "\n",
    "model1.compile(\n",
    "    optimizer = 'adam', \n",
    "    loss = 'sparse_categorical_crossentropy',\n",
    "    metrics = ['accuracy']\n",
    ")\n",
    "\n",
    "model1.fit(X_train,y_train, epochs = 5)"
   ]
  },
  {
   "cell_type": "markdown",
   "id": "d562d754",
   "metadata": {},
   "source": [
    "### Iteration 2:\n",
    "#### With scaling \n",
    "#### layers: 1\n",
    "#### Epochs: 25"
   ]
  },
  {
   "cell_type": "code",
   "execution_count": 19,
   "id": "a5e84af4",
   "metadata": {
    "scrolled": true
   },
   "outputs": [
    {
     "name": "stdout",
     "output_type": "stream",
     "text": [
      "Epoch 1/25\n",
      "788/788 [==============================] - 1s 999us/step - loss: 0.6338 - accuracy: 0.8419\n",
      "Epoch 2/25\n",
      "788/788 [==============================] - 1s 2ms/step - loss: 0.3548 - accuracy: 0.9034\n",
      "Epoch 3/25\n",
      "788/788 [==============================] - 1s 1ms/step - loss: 0.3158 - accuracy: 0.9116\n",
      "Epoch 4/25\n",
      "788/788 [==============================] - 1s 1ms/step - loss: 0.2956 - accuracy: 0.9164\n",
      "Epoch 5/25\n",
      "788/788 [==============================] - 1s 1ms/step - loss: 0.2829 - accuracy: 0.9194\n",
      "Epoch 6/25\n",
      "788/788 [==============================] - 1s 1ms/step - loss: 0.2739 - accuracy: 0.9213\n",
      "Epoch 7/25\n",
      "573/788 [====================>.........] - ETA: 0s - loss: 0.2640 - accuracy: 0.9250"
     ]
    },
    {
     "ename": "KeyboardInterrupt",
     "evalue": "",
     "output_type": "error",
     "traceback": [
      "\u001b[1;31m---------------------------------------------------------------------------\u001b[0m",
      "\u001b[1;31mKeyboardInterrupt\u001b[0m                         Traceback (most recent call last)",
      "Input \u001b[1;32mIn [19]\u001b[0m, in \u001b[0;36m<cell line: 11>\u001b[1;34m()\u001b[0m\n\u001b[0;32m      1\u001b[0m model2 \u001b[38;5;241m=\u001b[39m keras\u001b[38;5;241m.\u001b[39mSequential([\n\u001b[0;32m      2\u001b[0m     keras\u001b[38;5;241m.\u001b[39mlayers\u001b[38;5;241m.\u001b[39mDense(\u001b[38;5;241m10\u001b[39m, input_shape \u001b[38;5;241m=\u001b[39m (\u001b[38;5;241m784\u001b[39m,), activation \u001b[38;5;241m=\u001b[39m \u001b[38;5;124m'\u001b[39m\u001b[38;5;124msigmoid\u001b[39m\u001b[38;5;124m'\u001b[39m)\n\u001b[0;32m      3\u001b[0m ])\n\u001b[0;32m      5\u001b[0m model2\u001b[38;5;241m.\u001b[39mcompile(\n\u001b[0;32m      6\u001b[0m     optimizer \u001b[38;5;241m=\u001b[39m \u001b[38;5;124m'\u001b[39m\u001b[38;5;124madam\u001b[39m\u001b[38;5;124m'\u001b[39m, \n\u001b[0;32m      7\u001b[0m     loss \u001b[38;5;241m=\u001b[39m \u001b[38;5;124m'\u001b[39m\u001b[38;5;124msparse_categorical_crossentropy\u001b[39m\u001b[38;5;124m'\u001b[39m,\n\u001b[0;32m      8\u001b[0m     metrics \u001b[38;5;241m=\u001b[39m [\u001b[38;5;124m'\u001b[39m\u001b[38;5;124maccuracy\u001b[39m\u001b[38;5;124m'\u001b[39m]\n\u001b[0;32m      9\u001b[0m )\n\u001b[1;32m---> 11\u001b[0m \u001b[43mmodel2\u001b[49m\u001b[38;5;241;43m.\u001b[39;49m\u001b[43mfit\u001b[49m\u001b[43m(\u001b[49m\u001b[43mX_train\u001b[49m\u001b[43m,\u001b[49m\u001b[43my_train\u001b[49m\u001b[43m,\u001b[49m\u001b[43m \u001b[49m\u001b[43mepochs\u001b[49m\u001b[43m \u001b[49m\u001b[38;5;241;43m=\u001b[39;49m\u001b[43m \u001b[49m\u001b[38;5;241;43m25\u001b[39;49m\u001b[43m)\u001b[49m\n",
      "File \u001b[1;32m~\\anaconda3\\lib\\site-packages\\keras\\utils\\traceback_utils.py:65\u001b[0m, in \u001b[0;36mfilter_traceback.<locals>.error_handler\u001b[1;34m(*args, **kwargs)\u001b[0m\n\u001b[0;32m     63\u001b[0m filtered_tb \u001b[38;5;241m=\u001b[39m \u001b[38;5;28;01mNone\u001b[39;00m\n\u001b[0;32m     64\u001b[0m \u001b[38;5;28;01mtry\u001b[39;00m:\n\u001b[1;32m---> 65\u001b[0m     \u001b[38;5;28;01mreturn\u001b[39;00m fn(\u001b[38;5;241m*\u001b[39margs, \u001b[38;5;241m*\u001b[39m\u001b[38;5;241m*\u001b[39mkwargs)\n\u001b[0;32m     66\u001b[0m \u001b[38;5;28;01mexcept\u001b[39;00m \u001b[38;5;167;01mException\u001b[39;00m \u001b[38;5;28;01mas\u001b[39;00m e:\n\u001b[0;32m     67\u001b[0m     filtered_tb \u001b[38;5;241m=\u001b[39m _process_traceback_frames(e\u001b[38;5;241m.\u001b[39m__traceback__)\n",
      "File \u001b[1;32m~\\anaconda3\\lib\\site-packages\\keras\\engine\\training.py:1564\u001b[0m, in \u001b[0;36mModel.fit\u001b[1;34m(self, x, y, batch_size, epochs, verbose, callbacks, validation_split, validation_data, shuffle, class_weight, sample_weight, initial_epoch, steps_per_epoch, validation_steps, validation_batch_size, validation_freq, max_queue_size, workers, use_multiprocessing)\u001b[0m\n\u001b[0;32m   1556\u001b[0m \u001b[38;5;28;01mwith\u001b[39;00m tf\u001b[38;5;241m.\u001b[39mprofiler\u001b[38;5;241m.\u001b[39mexperimental\u001b[38;5;241m.\u001b[39mTrace(\n\u001b[0;32m   1557\u001b[0m     \u001b[38;5;124m\"\u001b[39m\u001b[38;5;124mtrain\u001b[39m\u001b[38;5;124m\"\u001b[39m,\n\u001b[0;32m   1558\u001b[0m     epoch_num\u001b[38;5;241m=\u001b[39mepoch,\n\u001b[1;32m   (...)\u001b[0m\n\u001b[0;32m   1561\u001b[0m     _r\u001b[38;5;241m=\u001b[39m\u001b[38;5;241m1\u001b[39m,\n\u001b[0;32m   1562\u001b[0m ):\n\u001b[0;32m   1563\u001b[0m     callbacks\u001b[38;5;241m.\u001b[39mon_train_batch_begin(step)\n\u001b[1;32m-> 1564\u001b[0m     tmp_logs \u001b[38;5;241m=\u001b[39m \u001b[38;5;28;43mself\u001b[39;49m\u001b[38;5;241;43m.\u001b[39;49m\u001b[43mtrain_function\u001b[49m\u001b[43m(\u001b[49m\u001b[43miterator\u001b[49m\u001b[43m)\u001b[49m\n\u001b[0;32m   1565\u001b[0m     \u001b[38;5;28;01mif\u001b[39;00m data_handler\u001b[38;5;241m.\u001b[39mshould_sync:\n\u001b[0;32m   1566\u001b[0m         context\u001b[38;5;241m.\u001b[39masync_wait()\n",
      "File \u001b[1;32m~\\AppData\\Roaming\\Python\\Python39\\site-packages\\tensorflow\\python\\util\\traceback_utils.py:150\u001b[0m, in \u001b[0;36mfilter_traceback.<locals>.error_handler\u001b[1;34m(*args, **kwargs)\u001b[0m\n\u001b[0;32m    148\u001b[0m filtered_tb \u001b[38;5;241m=\u001b[39m \u001b[38;5;28;01mNone\u001b[39;00m\n\u001b[0;32m    149\u001b[0m \u001b[38;5;28;01mtry\u001b[39;00m:\n\u001b[1;32m--> 150\u001b[0m   \u001b[38;5;28;01mreturn\u001b[39;00m fn(\u001b[38;5;241m*\u001b[39margs, \u001b[38;5;241m*\u001b[39m\u001b[38;5;241m*\u001b[39mkwargs)\n\u001b[0;32m    151\u001b[0m \u001b[38;5;28;01mexcept\u001b[39;00m \u001b[38;5;167;01mException\u001b[39;00m \u001b[38;5;28;01mas\u001b[39;00m e:\n\u001b[0;32m    152\u001b[0m   filtered_tb \u001b[38;5;241m=\u001b[39m _process_traceback_frames(e\u001b[38;5;241m.\u001b[39m__traceback__)\n",
      "File \u001b[1;32m~\\AppData\\Roaming\\Python\\Python39\\site-packages\\tensorflow\\python\\eager\\def_function.py:915\u001b[0m, in \u001b[0;36mFunction.__call__\u001b[1;34m(self, *args, **kwds)\u001b[0m\n\u001b[0;32m    912\u001b[0m compiler \u001b[38;5;241m=\u001b[39m \u001b[38;5;124m\"\u001b[39m\u001b[38;5;124mxla\u001b[39m\u001b[38;5;124m\"\u001b[39m \u001b[38;5;28;01mif\u001b[39;00m \u001b[38;5;28mself\u001b[39m\u001b[38;5;241m.\u001b[39m_jit_compile \u001b[38;5;28;01melse\u001b[39;00m \u001b[38;5;124m\"\u001b[39m\u001b[38;5;124mnonXla\u001b[39m\u001b[38;5;124m\"\u001b[39m\n\u001b[0;32m    914\u001b[0m \u001b[38;5;28;01mwith\u001b[39;00m OptionalXlaContext(\u001b[38;5;28mself\u001b[39m\u001b[38;5;241m.\u001b[39m_jit_compile):\n\u001b[1;32m--> 915\u001b[0m   result \u001b[38;5;241m=\u001b[39m \u001b[38;5;28mself\u001b[39m\u001b[38;5;241m.\u001b[39m_call(\u001b[38;5;241m*\u001b[39margs, \u001b[38;5;241m*\u001b[39m\u001b[38;5;241m*\u001b[39mkwds)\n\u001b[0;32m    917\u001b[0m new_tracing_count \u001b[38;5;241m=\u001b[39m \u001b[38;5;28mself\u001b[39m\u001b[38;5;241m.\u001b[39mexperimental_get_tracing_count()\n\u001b[0;32m    918\u001b[0m without_tracing \u001b[38;5;241m=\u001b[39m (tracing_count \u001b[38;5;241m==\u001b[39m new_tracing_count)\n",
      "File \u001b[1;32m~\\AppData\\Roaming\\Python\\Python39\\site-packages\\tensorflow\\python\\eager\\def_function.py:947\u001b[0m, in \u001b[0;36mFunction._call\u001b[1;34m(self, *args, **kwds)\u001b[0m\n\u001b[0;32m    944\u001b[0m   \u001b[38;5;28mself\u001b[39m\u001b[38;5;241m.\u001b[39m_lock\u001b[38;5;241m.\u001b[39mrelease()\n\u001b[0;32m    945\u001b[0m   \u001b[38;5;66;03m# In this case we have created variables on the first call, so we run the\u001b[39;00m\n\u001b[0;32m    946\u001b[0m   \u001b[38;5;66;03m# defunned version which is guaranteed to never create variables.\u001b[39;00m\n\u001b[1;32m--> 947\u001b[0m   \u001b[38;5;28;01mreturn\u001b[39;00m \u001b[38;5;28mself\u001b[39m\u001b[38;5;241m.\u001b[39m_stateless_fn(\u001b[38;5;241m*\u001b[39margs, \u001b[38;5;241m*\u001b[39m\u001b[38;5;241m*\u001b[39mkwds)  \u001b[38;5;66;03m# pylint: disable=not-callable\u001b[39;00m\n\u001b[0;32m    948\u001b[0m \u001b[38;5;28;01melif\u001b[39;00m \u001b[38;5;28mself\u001b[39m\u001b[38;5;241m.\u001b[39m_stateful_fn \u001b[38;5;129;01mis\u001b[39;00m \u001b[38;5;129;01mnot\u001b[39;00m \u001b[38;5;28;01mNone\u001b[39;00m:\n\u001b[0;32m    949\u001b[0m   \u001b[38;5;66;03m# Release the lock early so that multiple threads can perform the call\u001b[39;00m\n\u001b[0;32m    950\u001b[0m   \u001b[38;5;66;03m# in parallel.\u001b[39;00m\n\u001b[0;32m    951\u001b[0m   \u001b[38;5;28mself\u001b[39m\u001b[38;5;241m.\u001b[39m_lock\u001b[38;5;241m.\u001b[39mrelease()\n",
      "File \u001b[1;32m~\\AppData\\Roaming\\Python\\Python39\\site-packages\\tensorflow\\python\\eager\\function.py:2496\u001b[0m, in \u001b[0;36mFunction.__call__\u001b[1;34m(self, *args, **kwargs)\u001b[0m\n\u001b[0;32m   2493\u001b[0m \u001b[38;5;28;01mwith\u001b[39;00m \u001b[38;5;28mself\u001b[39m\u001b[38;5;241m.\u001b[39m_lock:\n\u001b[0;32m   2494\u001b[0m   (graph_function,\n\u001b[0;32m   2495\u001b[0m    filtered_flat_args) \u001b[38;5;241m=\u001b[39m \u001b[38;5;28mself\u001b[39m\u001b[38;5;241m.\u001b[39m_maybe_define_function(args, kwargs)\n\u001b[1;32m-> 2496\u001b[0m \u001b[38;5;28;01mreturn\u001b[39;00m \u001b[43mgraph_function\u001b[49m\u001b[38;5;241;43m.\u001b[39;49m\u001b[43m_call_flat\u001b[49m\u001b[43m(\u001b[49m\n\u001b[0;32m   2497\u001b[0m \u001b[43m    \u001b[49m\u001b[43mfiltered_flat_args\u001b[49m\u001b[43m,\u001b[49m\u001b[43m \u001b[49m\u001b[43mcaptured_inputs\u001b[49m\u001b[38;5;241;43m=\u001b[39;49m\u001b[43mgraph_function\u001b[49m\u001b[38;5;241;43m.\u001b[39;49m\u001b[43mcaptured_inputs\u001b[49m\u001b[43m)\u001b[49m\n",
      "File \u001b[1;32m~\\AppData\\Roaming\\Python\\Python39\\site-packages\\tensorflow\\python\\eager\\function.py:1862\u001b[0m, in \u001b[0;36mConcreteFunction._call_flat\u001b[1;34m(self, args, captured_inputs, cancellation_manager)\u001b[0m\n\u001b[0;32m   1858\u001b[0m possible_gradient_type \u001b[38;5;241m=\u001b[39m gradients_util\u001b[38;5;241m.\u001b[39mPossibleTapeGradientTypes(args)\n\u001b[0;32m   1859\u001b[0m \u001b[38;5;28;01mif\u001b[39;00m (possible_gradient_type \u001b[38;5;241m==\u001b[39m gradients_util\u001b[38;5;241m.\u001b[39mPOSSIBLE_GRADIENT_TYPES_NONE\n\u001b[0;32m   1860\u001b[0m     \u001b[38;5;129;01mand\u001b[39;00m executing_eagerly):\n\u001b[0;32m   1861\u001b[0m   \u001b[38;5;66;03m# No tape is watching; skip to running the function.\u001b[39;00m\n\u001b[1;32m-> 1862\u001b[0m   \u001b[38;5;28;01mreturn\u001b[39;00m \u001b[38;5;28mself\u001b[39m\u001b[38;5;241m.\u001b[39m_build_call_outputs(\u001b[38;5;28;43mself\u001b[39;49m\u001b[38;5;241;43m.\u001b[39;49m\u001b[43m_inference_function\u001b[49m\u001b[38;5;241;43m.\u001b[39;49m\u001b[43mcall\u001b[49m\u001b[43m(\u001b[49m\n\u001b[0;32m   1863\u001b[0m \u001b[43m      \u001b[49m\u001b[43mctx\u001b[49m\u001b[43m,\u001b[49m\u001b[43m \u001b[49m\u001b[43margs\u001b[49m\u001b[43m,\u001b[49m\u001b[43m \u001b[49m\u001b[43mcancellation_manager\u001b[49m\u001b[38;5;241;43m=\u001b[39;49m\u001b[43mcancellation_manager\u001b[49m\u001b[43m)\u001b[49m)\n\u001b[0;32m   1864\u001b[0m forward_backward \u001b[38;5;241m=\u001b[39m \u001b[38;5;28mself\u001b[39m\u001b[38;5;241m.\u001b[39m_select_forward_and_backward_functions(\n\u001b[0;32m   1865\u001b[0m     args,\n\u001b[0;32m   1866\u001b[0m     possible_gradient_type,\n\u001b[0;32m   1867\u001b[0m     executing_eagerly)\n\u001b[0;32m   1868\u001b[0m forward_function, args_with_tangents \u001b[38;5;241m=\u001b[39m forward_backward\u001b[38;5;241m.\u001b[39mforward()\n",
      "File \u001b[1;32m~\\AppData\\Roaming\\Python\\Python39\\site-packages\\tensorflow\\python\\eager\\function.py:499\u001b[0m, in \u001b[0;36m_EagerDefinedFunction.call\u001b[1;34m(self, ctx, args, cancellation_manager)\u001b[0m\n\u001b[0;32m    497\u001b[0m \u001b[38;5;28;01mwith\u001b[39;00m _InterpolateFunctionError(\u001b[38;5;28mself\u001b[39m):\n\u001b[0;32m    498\u001b[0m   \u001b[38;5;28;01mif\u001b[39;00m cancellation_manager \u001b[38;5;129;01mis\u001b[39;00m \u001b[38;5;28;01mNone\u001b[39;00m:\n\u001b[1;32m--> 499\u001b[0m     outputs \u001b[38;5;241m=\u001b[39m \u001b[43mexecute\u001b[49m\u001b[38;5;241;43m.\u001b[39;49m\u001b[43mexecute\u001b[49m\u001b[43m(\u001b[49m\n\u001b[0;32m    500\u001b[0m \u001b[43m        \u001b[49m\u001b[38;5;28;43mstr\u001b[39;49m\u001b[43m(\u001b[49m\u001b[38;5;28;43mself\u001b[39;49m\u001b[38;5;241;43m.\u001b[39;49m\u001b[43msignature\u001b[49m\u001b[38;5;241;43m.\u001b[39;49m\u001b[43mname\u001b[49m\u001b[43m)\u001b[49m\u001b[43m,\u001b[49m\n\u001b[0;32m    501\u001b[0m \u001b[43m        \u001b[49m\u001b[43mnum_outputs\u001b[49m\u001b[38;5;241;43m=\u001b[39;49m\u001b[38;5;28;43mself\u001b[39;49m\u001b[38;5;241;43m.\u001b[39;49m\u001b[43m_num_outputs\u001b[49m\u001b[43m,\u001b[49m\n\u001b[0;32m    502\u001b[0m \u001b[43m        \u001b[49m\u001b[43minputs\u001b[49m\u001b[38;5;241;43m=\u001b[39;49m\u001b[43margs\u001b[49m\u001b[43m,\u001b[49m\n\u001b[0;32m    503\u001b[0m \u001b[43m        \u001b[49m\u001b[43mattrs\u001b[49m\u001b[38;5;241;43m=\u001b[39;49m\u001b[43mattrs\u001b[49m\u001b[43m,\u001b[49m\n\u001b[0;32m    504\u001b[0m \u001b[43m        \u001b[49m\u001b[43mctx\u001b[49m\u001b[38;5;241;43m=\u001b[39;49m\u001b[43mctx\u001b[49m\u001b[43m)\u001b[49m\n\u001b[0;32m    505\u001b[0m   \u001b[38;5;28;01melse\u001b[39;00m:\n\u001b[0;32m    506\u001b[0m     outputs \u001b[38;5;241m=\u001b[39m execute\u001b[38;5;241m.\u001b[39mexecute_with_cancellation(\n\u001b[0;32m    507\u001b[0m         \u001b[38;5;28mstr\u001b[39m(\u001b[38;5;28mself\u001b[39m\u001b[38;5;241m.\u001b[39msignature\u001b[38;5;241m.\u001b[39mname),\n\u001b[0;32m    508\u001b[0m         num_outputs\u001b[38;5;241m=\u001b[39m\u001b[38;5;28mself\u001b[39m\u001b[38;5;241m.\u001b[39m_num_outputs,\n\u001b[1;32m   (...)\u001b[0m\n\u001b[0;32m    511\u001b[0m         ctx\u001b[38;5;241m=\u001b[39mctx,\n\u001b[0;32m    512\u001b[0m         cancellation_manager\u001b[38;5;241m=\u001b[39mcancellation_manager)\n",
      "File \u001b[1;32m~\\AppData\\Roaming\\Python\\Python39\\site-packages\\tensorflow\\python\\eager\\execute.py:54\u001b[0m, in \u001b[0;36mquick_execute\u001b[1;34m(op_name, num_outputs, inputs, attrs, ctx, name)\u001b[0m\n\u001b[0;32m     52\u001b[0m \u001b[38;5;28;01mtry\u001b[39;00m:\n\u001b[0;32m     53\u001b[0m   ctx\u001b[38;5;241m.\u001b[39mensure_initialized()\n\u001b[1;32m---> 54\u001b[0m   tensors \u001b[38;5;241m=\u001b[39m \u001b[43mpywrap_tfe\u001b[49m\u001b[38;5;241;43m.\u001b[39;49m\u001b[43mTFE_Py_Execute\u001b[49m\u001b[43m(\u001b[49m\u001b[43mctx\u001b[49m\u001b[38;5;241;43m.\u001b[39;49m\u001b[43m_handle\u001b[49m\u001b[43m,\u001b[49m\u001b[43m \u001b[49m\u001b[43mdevice_name\u001b[49m\u001b[43m,\u001b[49m\u001b[43m \u001b[49m\u001b[43mop_name\u001b[49m\u001b[43m,\u001b[49m\n\u001b[0;32m     55\u001b[0m \u001b[43m                                      \u001b[49m\u001b[43minputs\u001b[49m\u001b[43m,\u001b[49m\u001b[43m \u001b[49m\u001b[43mattrs\u001b[49m\u001b[43m,\u001b[49m\u001b[43m \u001b[49m\u001b[43mnum_outputs\u001b[49m\u001b[43m)\u001b[49m\n\u001b[0;32m     56\u001b[0m \u001b[38;5;28;01mexcept\u001b[39;00m core\u001b[38;5;241m.\u001b[39m_NotOkStatusException \u001b[38;5;28;01mas\u001b[39;00m e:\n\u001b[0;32m     57\u001b[0m   \u001b[38;5;28;01mif\u001b[39;00m name \u001b[38;5;129;01mis\u001b[39;00m \u001b[38;5;129;01mnot\u001b[39;00m \u001b[38;5;28;01mNone\u001b[39;00m:\n",
      "\u001b[1;31mKeyboardInterrupt\u001b[0m: "
     ]
    }
   ],
   "source": [
    "model2 = keras.Sequential([\n",
    "    keras.layers.Dense(10, input_shape = (784,), activation = 'sigmoid')\n",
    "])\n",
    "\n",
    "model2.compile(\n",
    "    optimizer = 'adam', \n",
    "    loss = 'sparse_categorical_crossentropy',\n",
    "    metrics = ['accuracy']\n",
    ")\n",
    "\n",
    "model2.fit(X_train,y_train, epochs = 25)"
   ]
  },
  {
   "cell_type": "markdown",
   "id": "8d9595d6",
   "metadata": {},
   "source": [
    "### Iteration 3:\n",
    "#### With scaling \n",
    "#### layers: 2 Hidden Layers\n",
    "#### Epochs: 25"
   ]
  },
  {
   "cell_type": "code",
   "execution_count": 8,
   "id": "b70e61aa",
   "metadata": {},
   "outputs": [
    {
     "data": {
      "text/plain": [
       "(223470, 784)"
      ]
     },
     "execution_count": 8,
     "metadata": {},
     "output_type": "execute_result"
    }
   ],
   "source": [
    "X3_train.shape"
   ]
  },
  {
   "cell_type": "code",
   "execution_count": 9,
   "id": "42ef9265",
   "metadata": {},
   "outputs": [
    {
     "data": {
      "text/plain": [
       "(148980, 784)"
      ]
     },
     "execution_count": 9,
     "metadata": {},
     "output_type": "execute_result"
    }
   ],
   "source": [
    "X3_test.shape"
   ]
  },
  {
   "cell_type": "code",
   "execution_count": 10,
   "id": "5a28a143",
   "metadata": {},
   "outputs": [],
   "source": [
    "X3_train = X3_train.to_numpy().reshape(223470, 28,28,1)"
   ]
  },
  {
   "cell_type": "code",
   "execution_count": 12,
   "id": "947cd15b",
   "metadata": {},
   "outputs": [],
   "source": [
    "X3_test = X3_test.to_numpy().reshape(148980, 28,28,1)"
   ]
  },
  {
   "cell_type": "code",
   "execution_count": 13,
   "id": "8c23ee0a",
   "metadata": {},
   "outputs": [
    {
     "data": {
      "text/plain": [
       "(223470, 28, 28, 1)"
      ]
     },
     "execution_count": 13,
     "metadata": {},
     "output_type": "execute_result"
    }
   ],
   "source": [
    "X3_train.shape"
   ]
  },
  {
   "cell_type": "code",
   "execution_count": 68,
   "id": "ec8efed1",
   "metadata": {
    "scrolled": true
   },
   "outputs": [
    {
     "name": "stdout",
     "output_type": "stream",
     "text": [
      "Epoch 1/40\n",
      "3859/3859 [==============================] - 33s 8ms/step - loss: 0.6816 - accuracy: 0.8033 - val_loss: 0.2718 - val_accuracy: 0.9273\n",
      "Epoch 2/40\n",
      "3859/3859 [==============================] - 30s 8ms/step - loss: 0.3974 - accuracy: 0.8820 - val_loss: 0.2196 - val_accuracy: 0.9428\n",
      "Epoch 3/40\n",
      "3859/3859 [==============================] - 30s 8ms/step - loss: 0.3486 - accuracy: 0.8954 - val_loss: 0.2171 - val_accuracy: 0.9423\n",
      "Epoch 4/40\n",
      "3859/3859 [==============================] - 30s 8ms/step - loss: 0.3214 - accuracy: 0.9030 - val_loss: 0.1726 - val_accuracy: 0.9544\n",
      "Epoch 5/40\n",
      "3859/3859 [==============================] - 29s 7ms/step - loss: 0.3072 - accuracy: 0.9075 - val_loss: 0.1689 - val_accuracy: 0.9557\n",
      "Epoch 6/40\n",
      "3859/3859 [==============================] - 33s 8ms/step - loss: 0.2924 - accuracy: 0.9114 - val_loss: 0.1626 - val_accuracy: 0.9585\n",
      "Epoch 7/40\n",
      "3859/3859 [==============================] - 32s 8ms/step - loss: 0.2852 - accuracy: 0.9141 - val_loss: 0.1593 - val_accuracy: 0.9587\n",
      "Epoch 8/40\n",
      "3859/3859 [==============================] - 33s 8ms/step - loss: 0.2786 - accuracy: 0.9153 - val_loss: 0.1575 - val_accuracy: 0.9612\n",
      "Epoch 9/40\n",
      "3859/3859 [==============================] - 33s 9ms/step - loss: 0.2739 - accuracy: 0.9173 - val_loss: 0.1585 - val_accuracy: 0.9593\n",
      "Epoch 10/40\n",
      "3859/3859 [==============================] - 32s 8ms/step - loss: 0.2681 - accuracy: 0.9186 - val_loss: 0.1435 - val_accuracy: 0.9624\n",
      "Epoch 11/40\n",
      "3859/3859 [==============================] - 32s 8ms/step - loss: 0.2644 - accuracy: 0.9198 - val_loss: 0.1556 - val_accuracy: 0.9612\n",
      "Epoch 12/40\n",
      "3859/3859 [==============================] - 33s 8ms/step - loss: 0.2605 - accuracy: 0.9213 - val_loss: 0.1532 - val_accuracy: 0.9609\n",
      "Epoch 13/40\n",
      "3859/3859 [==============================] - 34s 9ms/step - loss: 0.2568 - accuracy: 0.9218 - val_loss: 0.1398 - val_accuracy: 0.9623\n",
      "Epoch 14/40\n",
      "3859/3859 [==============================] - 33s 9ms/step - loss: 0.2525 - accuracy: 0.9235 - val_loss: 0.1452 - val_accuracy: 0.9637\n",
      "Epoch 15/40\n",
      "3859/3859 [==============================] - 34s 9ms/step - loss: 0.2523 - accuracy: 0.9237 - val_loss: 0.1506 - val_accuracy: 0.9620\n",
      "Epoch 16/40\n",
      "3859/3859 [==============================] - 35s 9ms/step - loss: 0.2461 - accuracy: 0.9253 - val_loss: 0.1538 - val_accuracy: 0.9601\n",
      "Epoch 17/40\n",
      "3859/3859 [==============================] - 34s 9ms/step - loss: 0.2474 - accuracy: 0.9245 - val_loss: 0.1331 - val_accuracy: 0.9657\n",
      "Epoch 18/40\n",
      "3859/3859 [==============================] - 34s 9ms/step - loss: 0.2427 - accuracy: 0.9265 - val_loss: 0.1359 - val_accuracy: 0.9646\n",
      "Epoch 19/40\n",
      "3859/3859 [==============================] - 34s 9ms/step - loss: 0.2428 - accuracy: 0.9264 - val_loss: 0.1362 - val_accuracy: 0.9650\n",
      "Epoch 20/40\n",
      "3859/3859 [==============================] - 34s 9ms/step - loss: 0.2385 - accuracy: 0.9272 - val_loss: 0.1381 - val_accuracy: 0.9644\n",
      "Epoch 21/40\n",
      "3859/3859 [==============================] - 32s 8ms/step - loss: 0.2389 - accuracy: 0.9274 - val_loss: 0.1308 - val_accuracy: 0.9662\n",
      "Epoch 22/40\n",
      "3859/3859 [==============================] - 32s 8ms/step - loss: 0.2376 - accuracy: 0.9273 - val_loss: 0.1308 - val_accuracy: 0.9664\n",
      "Epoch 23/40\n",
      "3859/3859 [==============================] - 34s 9ms/step - loss: 0.2370 - accuracy: 0.9285 - val_loss: 0.1380 - val_accuracy: 0.9631\n",
      "Epoch 24/40\n",
      "3859/3859 [==============================] - 35s 9ms/step - loss: 0.2345 - accuracy: 0.9286 - val_loss: 0.1401 - val_accuracy: 0.9648\n",
      "Epoch 25/40\n",
      "3859/3859 [==============================] - 33s 8ms/step - loss: 0.2347 - accuracy: 0.9285 - val_loss: 0.1389 - val_accuracy: 0.9647\n",
      "Epoch 26/40\n",
      "3859/3859 [==============================] - 31s 8ms/step - loss: 0.2329 - accuracy: 0.9292 - val_loss: 0.1280 - val_accuracy: 0.9679\n",
      "Epoch 27/40\n",
      "3859/3859 [==============================] - 30s 8ms/step - loss: 0.2314 - accuracy: 0.9297 - val_loss: 0.1368 - val_accuracy: 0.9648\n",
      "Epoch 28/40\n",
      "3859/3859 [==============================] - 28s 7ms/step - loss: 0.2276 - accuracy: 0.9302 - val_loss: 0.1352 - val_accuracy: 0.9650\n",
      "Epoch 29/40\n",
      "3859/3859 [==============================] - 29s 7ms/step - loss: 0.2281 - accuracy: 0.9305 - val_loss: 0.1459 - val_accuracy: 0.9623\n",
      "Epoch 30/40\n",
      "3859/3859 [==============================] - 28s 7ms/step - loss: 0.2268 - accuracy: 0.9302 - val_loss: 0.1385 - val_accuracy: 0.9649\n",
      "Epoch 31/40\n",
      "3859/3859 [==============================] - 30s 8ms/step - loss: 0.2249 - accuracy: 0.9312 - val_loss: 0.1309 - val_accuracy: 0.9656\n",
      "Epoch 32/40\n",
      "3859/3859 [==============================] - 32s 8ms/step - loss: 0.2289 - accuracy: 0.9306 - val_loss: 0.1295 - val_accuracy: 0.9670\n",
      "Epoch 33/40\n",
      "3859/3859 [==============================] - 33s 9ms/step - loss: 0.2245 - accuracy: 0.9316 - val_loss: 0.1375 - val_accuracy: 0.9647\n",
      "Epoch 34/40\n",
      "3859/3859 [==============================] - 32s 8ms/step - loss: 0.2239 - accuracy: 0.9306 - val_loss: 0.1265 - val_accuracy: 0.9671\n",
      "Epoch 35/40\n",
      "3859/3859 [==============================] - 33s 9ms/step - loss: 0.2255 - accuracy: 0.9316 - val_loss: 0.1345 - val_accuracy: 0.9666\n",
      "Epoch 36/40\n",
      "3859/3859 [==============================] - 33s 8ms/step - loss: 0.2237 - accuracy: 0.9314 - val_loss: 0.1278 - val_accuracy: 0.9663\n",
      "Epoch 37/40\n",
      "3859/3859 [==============================] - 32s 8ms/step - loss: 0.2209 - accuracy: 0.9322 - val_loss: 0.1337 - val_accuracy: 0.9663\n",
      "Epoch 38/40\n",
      "3859/3859 [==============================] - 32s 8ms/step - loss: 0.2232 - accuracy: 0.9318 - val_loss: 0.1254 - val_accuracy: 0.9663\n",
      "Epoch 39/40\n",
      "3859/3859 [==============================] - 33s 9ms/step - loss: 0.2217 - accuracy: 0.9318 - val_loss: 0.1266 - val_accuracy: 0.9666\n",
      "Epoch 40/40\n",
      "3859/3859 [==============================] - 32s 8ms/step - loss: 0.2208 - accuracy: 0.9325 - val_loss: 0.1285 - val_accuracy: 0.9676\n"
     ]
    },
    {
     "data": {
      "text/plain": [
       "<keras.callbacks.History at 0x224afa86f40>"
      ]
     },
     "execution_count": 68,
     "metadata": {},
     "output_type": "execute_result"
    }
   ],
   "source": [
    "no_of_classes = 36\n",
    "dropout_rate = 0.3\n",
    "\n",
    "model3 = keras.Sequential([\n",
    "    keras.layers.Rescaling(scale = 1./255, offset=0.0),\n",
    "    keras.layers.Flatten(input_shape = (28,28)),\n",
    "    keras.layers.Dense(128, activation = 'relu'),\n",
    "    keras.layers.Dropout(dropout_rate),\n",
    "    keras.layers.Dense(128, activation = 'relu'),\n",
    "    keras.layers.Dropout(dropout_rate),\n",
    "    keras.layers.Dense(no_of_classes, activation = 'softmax')\n",
    "])\n",
    "\n",
    "model3.compile(\n",
    "    optimizer = 'adam', \n",
    "    loss = 'sparse_categorical_crossentropy',\n",
    "    metrics = ['accuracy']\n",
    ")\n",
    "\n",
    "model3.fit(X3_train,y3_train, epochs = 40, batch_size = 64, validation_split = 0.2)"
   ]
  },
  {
   "cell_type": "code",
   "execution_count": 69,
   "id": "c52d45d3",
   "metadata": {},
   "outputs": [
    {
     "data": {
      "text/plain": [
       "3834"
      ]
     },
     "execution_count": 69,
     "metadata": {},
     "output_type": "execute_result"
    }
   ],
   "source": [
    "del X3_train,y3_train\n",
    "gc.collect()"
   ]
  },
  {
   "cell_type": "markdown",
   "id": "c5bed209",
   "metadata": {},
   "source": [
    "### Iteration 4:\n",
    "#### With scaling \n",
    "## Convolutional NeuralNetwork"
   ]
  },
  {
   "cell_type": "code",
   "execution_count": 14,
   "id": "3124dffa",
   "metadata": {},
   "outputs": [
    {
     "data": {
      "text/plain": [
       "(223470, 28, 28, 1)"
      ]
     },
     "execution_count": 14,
     "metadata": {},
     "output_type": "execute_result"
    }
   ],
   "source": [
    "X3_train.shape"
   ]
  },
  {
   "cell_type": "code",
   "execution_count": 15,
   "id": "2944452d",
   "metadata": {},
   "outputs": [
    {
     "data": {
      "text/plain": [
       "(148980, 28, 28, 1)"
      ]
     },
     "execution_count": 15,
     "metadata": {},
     "output_type": "execute_result"
    }
   ],
   "source": [
    "X3_test.shape"
   ]
  },
  {
   "cell_type": "code",
   "execution_count": 14,
   "id": "703cc6b1",
   "metadata": {},
   "outputs": [],
   "source": [
    "X3_train = X3_train.to_numpy().reshape(223470, 28,28,1)"
   ]
  },
  {
   "cell_type": "code",
   "execution_count": 15,
   "id": "e648d2b4",
   "metadata": {},
   "outputs": [],
   "source": [
    "X3_test = X3_test.to_numpy().reshape(148980, 28,28,1)"
   ]
  },
  {
   "cell_type": "code",
   "execution_count": 16,
   "id": "a23bacc8",
   "metadata": {
    "scrolled": true
   },
   "outputs": [
    {
     "name": "stdout",
     "output_type": "stream",
     "text": [
      "2.10.0\n"
     ]
    }
   ],
   "source": [
    "print(tf.__version__)"
   ]
  },
  {
   "cell_type": "code",
   "execution_count": 16,
   "id": "fe5be6a5",
   "metadata": {
    "scrolled": false
   },
   "outputs": [
    {
     "name": "stdout",
     "output_type": "stream",
     "text": [
      "Epoch 1/10\n",
      "2794/2794 [==============================] - 421s 150ms/step - loss: 0.4315 - accuracy: 0.8733 - val_loss: 0.1043 - val_accuracy: 0.9709\n",
      "Epoch 2/10\n",
      "2794/2794 [==============================] - 437s 156ms/step - loss: 0.1860 - accuracy: 0.9463 - val_loss: 0.0793 - val_accuracy: 0.9774\n",
      "Epoch 3/10\n",
      "2794/2794 [==============================] - 411s 147ms/step - loss: 0.1530 - accuracy: 0.9563 - val_loss: 0.0692 - val_accuracy: 0.9804\n",
      "Epoch 4/10\n",
      "2794/2794 [==============================] - 419s 150ms/step - loss: 0.1349 - accuracy: 0.9613 - val_loss: 0.0592 - val_accuracy: 0.9838\n",
      "Epoch 5/10\n",
      "2794/2794 [==============================] - 415s 149ms/step - loss: 0.1245 - accuracy: 0.9649 - val_loss: 0.0582 - val_accuracy: 0.9837\n",
      "Epoch 6/10\n",
      "2794/2794 [==============================] - 415s 148ms/step - loss: 0.1176 - accuracy: 0.9662 - val_loss: 0.0565 - val_accuracy: 0.9840\n",
      "Epoch 7/10\n",
      "2794/2794 [==============================] - 415s 148ms/step - loss: 0.1106 - accuracy: 0.9684 - val_loss: 0.0538 - val_accuracy: 0.9849\n",
      "Epoch 8/10\n",
      "2794/2794 [==============================] - 411s 147ms/step - loss: 0.1052 - accuracy: 0.9694 - val_loss: 0.0508 - val_accuracy: 0.9853\n",
      "Epoch 9/10\n",
      "2794/2794 [==============================] - 411s 147ms/step - loss: 0.1015 - accuracy: 0.9709 - val_loss: 0.0471 - val_accuracy: 0.9870\n",
      "Epoch 10/10\n",
      "2794/2794 [==============================] - 425s 152ms/step - loss: 0.0992 - accuracy: 0.9716 - val_loss: 0.0545 - val_accuracy: 0.9844\n"
     ]
    },
    {
     "data": {
      "text/plain": [
       "<keras.callbacks.History at 0x1f9e722beb0>"
      ]
     },
     "execution_count": 16,
     "metadata": {},
     "output_type": "execute_result"
    }
   ],
   "source": [
    "model3 = keras.Sequential([  \n",
    "    \n",
    "    keras.layers.Rescaling(scale = 1./255, offset=0.0),\n",
    "    \n",
    "    ## CNN\n",
    "    keras.layers.Conv2D(filters = 16, kernel_size = (3,3),padding = 'same', activation = 'relu', input_shape = (28,28,1)),\n",
    "    keras.layers.MaxPooling2D((2,2)),\n",
    "    \n",
    "    keras.layers.Conv2D(filters = 16, kernel_size = (3,3),padding = 'same', activation = 'relu'),\n",
    "    keras.layers.MaxPooling2D((2,2)),\n",
    "    \n",
    "    \n",
    "    ## Dense\n",
    "    keras.layers.Dropout(0.3),\n",
    "    keras.layers.Flatten(),\n",
    "    keras.layers.Dense(128, activation = 'relu'), \n",
    "    keras.layers.Dropout(0.3),\n",
    "    keras.layers.Dense(128, activation = 'relu'),\n",
    "    keras.layers.Dropout(0.3),\n",
    "    keras.layers.Dense(26, activation = 'softmax')\n",
    "])\n",
    "\n",
    "model3.compile(\n",
    "    optimizer = 'adam', \n",
    "    loss = 'sparse_categorical_crossentropy',\n",
    "    metrics = ['accuracy']\n",
    ")\n",
    "\n",
    "model3.fit(X3_train,y3_train, epochs = 10, batch_size = 64, validation_split = 0.2)"
   ]
  },
  {
   "cell_type": "markdown",
   "id": "e2faa437",
   "metadata": {},
   "source": [
    "## Predictions"
   ]
  },
  {
   "cell_type": "code",
   "execution_count": 17,
   "id": "9e6fd79b",
   "metadata": {
    "scrolled": false
   },
   "outputs": [
    {
     "name": "stdout",
     "output_type": "stream",
     "text": [
      "4656/4656 [==============================] - 17s 4ms/step - loss: 0.0533 - accuracy: 0.9844\n"
     ]
    },
    {
     "data": {
      "text/plain": [
       "[0.05327512323856354, 0.9844341278076172]"
      ]
     },
     "execution_count": 17,
     "metadata": {},
     "output_type": "execute_result"
    }
   ],
   "source": [
    "model3.evaluate(X3_test,y3_test)"
   ]
  },
  {
   "cell_type": "code",
   "execution_count": 18,
   "id": "50b9ce13",
   "metadata": {
    "scrolled": true
   },
   "outputs": [
    {
     "name": "stdout",
     "output_type": "stream",
     "text": [
      "4656/4656 [==============================] - 16s 3ms/step\n"
     ]
    }
   ],
   "source": [
    "y_pred = model3.predict(X3_test)"
   ]
  },
  {
   "cell_type": "code",
   "execution_count": 19,
   "id": "4f21f82d",
   "metadata": {
    "scrolled": true
   },
   "outputs": [
    {
     "data": {
      "text/plain": [
       "(148980, 28, 28, 1)"
      ]
     },
     "execution_count": 19,
     "metadata": {},
     "output_type": "execute_result"
    }
   ],
   "source": [
    "X3_test.shape"
   ]
  },
  {
   "cell_type": "code",
   "execution_count": 20,
   "id": "79f04995",
   "metadata": {},
   "outputs": [
    {
     "data": {
      "text/plain": [
       "189545    14\n",
       "190041    14\n",
       "235147    18\n",
       "101210    11\n",
       "124372    13\n",
       "201063    15\n",
       "357254    24\n",
       "360011    24\n",
       "358346    24\n",
       "277340    18\n",
       "Name: 0, dtype: int64"
      ]
     },
     "execution_count": 20,
     "metadata": {},
     "output_type": "execute_result"
    }
   ],
   "source": [
    "y3_test[:10]"
   ]
  },
  {
   "cell_type": "code",
   "execution_count": 21,
   "id": "2471c3be",
   "metadata": {},
   "outputs": [],
   "source": [
    "y_pred_labels = [np.argmax(i) for i in y_pred]"
   ]
  },
  {
   "cell_type": "code",
   "execution_count": 22,
   "id": "7e39aa36",
   "metadata": {
    "scrolled": true
   },
   "outputs": [
    {
     "data": {
      "text/plain": [
       "[14, 14, 18, 11, 13, 15, 24, 24, 24, 18]"
      ]
     },
     "execution_count": 22,
     "metadata": {},
     "output_type": "execute_result"
    }
   ],
   "source": [
    "y_pred_labels[:10]"
   ]
  },
  {
   "cell_type": "markdown",
   "id": "271aed2b",
   "metadata": {},
   "source": [
    "## Tf - confusion Matrix"
   ]
  },
  {
   "cell_type": "code",
   "execution_count": 23,
   "id": "756b60b5",
   "metadata": {},
   "outputs": [
    {
     "data": {
      "text/plain": [
       "<tf.Tensor: shape=(26, 26), dtype=int32, numpy=\n",
       "array([[ 5457,     2,     0,     0,     0,     0,     0,     3,     0,\n",
       "            0,     1,     2,     0,     0,     1,     0,     3,     8,\n",
       "            0,     2,     0,     0,     0,     0,     0,     2],\n",
       "       [    1,  3401,     3,     7,    12,     0,     8,     2,     0,\n",
       "            2,     1,     0,     0,     0,     7,     7,     1,     9,\n",
       "           14,     0,     0,     0,     0,     0,     0,     4],\n",
       "       [    1,     0,  9336,     0,    10,     0,     6,     0,     2,\n",
       "            0,     0,    14,     0,     0,     3,     1,     0,     2,\n",
       "            1,     0,    11,     0,     0,     0,     1,     0],\n",
       "       [    6,     8,     3,  3634,     0,     0,     0,     0,     0,\n",
       "           22,     0,     0,     1,     1,   305,    25,     1,     0,\n",
       "           10,     1,     1,     0,     0,     0,     1,     4],\n",
       "       [    0,     1,    31,     0,  4515,    10,     7,     0,     1,\n",
       "            0,     0,     2,     0,     0,     0,     0,     0,     7,\n",
       "            2,     2,     0,     0,     0,     0,     0,     7],\n",
       "       [    0,     0,     0,     0,    10,   450,     1,     0,     0,\n",
       "            0,     0,     0,     0,     0,     0,     1,     0,     0,\n",
       "            1,     1,     0,     0,     0,     0,     0,     0],\n",
       "       [    4,     5,    17,     0,    13,     0,  2240,    10,     0,\n",
       "            0,     0,     0,     0,     0,     3,     0,    12,     0,\n",
       "           18,     2,     3,     0,     0,     0,     2,     1],\n",
       "       [   20,     2,     0,     0,     2,     0,     0,  2831,     0,\n",
       "            0,     8,     0,     9,    13,     0,     0,     0,     0,\n",
       "            0,     6,     5,     0,     1,     5,     6,     0],\n",
       "       [    0,     0,     0,     0,     0,     0,     0,     0,   432,\n",
       "            6,     0,     1,     0,     0,     0,     0,     0,     0,\n",
       "            0,     1,     0,     0,     0,     0,     0,     3],\n",
       "       [    0,     0,     0,     4,     0,     0,     0,     0,     5,\n",
       "         3269,     0,     0,     0,     2,     0,     0,     0,     0,\n",
       "           54,    31,    11,     0,     0,     0,     7,     0],\n",
       "       [    3,     0,     7,     0,     8,     0,     0,     9,     0,\n",
       "            0,  2178,     4,     0,     0,     0,     0,     0,     5,\n",
       "            1,     2,     4,     0,     1,    12,     4,     0],\n",
       "       [    3,     0,   102,     0,     2,     0,     0,     2,     0,\n",
       "            3,     5,  4610,     0,     0,     0,     0,     0,     4,\n",
       "            3,     1,     7,     0,     0,    12,     2,     7],\n",
       "       [   14,     0,     0,     0,     0,     0,     0,    22,     0,\n",
       "            0,     2,     0,  4901,    17,     0,     1,     0,     0,\n",
       "            0,     3,     3,     0,     1,     0,     0,     0],\n",
       "       [   19,     0,     0,     0,     0,     0,     0,    38,     0,\n",
       "            6,     2,     0,    15,  7411,     1,     4,     2,     4,\n",
       "            0,     4,    12,     1,     3,     9,     5,     0],\n",
       "       [    2,     6,    18,    42,     3,     2,     2,     1,     2,\n",
       "            6,     0,     0,     1,     0, 22924,     1,     4,     0,\n",
       "            5,     3,     6,     0,     0,     0,     0,     0],\n",
       "       [    6,     4,     6,    29,     2,     1,     0,     2,     0,\n",
       "            1,     0,     0,     0,     2,     1,  7692,     1,     7,\n",
       "            0,     2,     0,     0,     0,     0,    10,     0],\n",
       "       [    8,     0,    19,     1,     0,     0,    24,     0,     0,\n",
       "            0,     0,     0,     0,     0,    71,    10,  2134,     8,\n",
       "            3,     0,     4,     0,     0,     0,     0,     0],\n",
       "       [   32,     5,     8,     0,     1,     0,     0,     0,     0,\n",
       "            0,    10,     5,     4,     1,     0,     6,     2,  4591,\n",
       "            0,     0,     0,     0,     0,     2,     0,     8],\n",
       "       [    3,     1,    15,     2,     4,     0,     3,     1,     0,\n",
       "           22,     1,     3,     2,     2,     2,     1,     0,     2,\n",
       "        19303,     3,     0,     0,     1,     1,     5,     0],\n",
       "       [    1,     0,     3,     0,     0,     2,     0,    10,     3,\n",
       "            3,     5,     0,     2,     0,     2,     1,     0,     2,\n",
       "            1,  8947,     0,     0,     0,     1,    23,     0],\n",
       "       [    1,     0,    10,     1,     0,     0,     0,     8,     0,\n",
       "            8,     3,     0,     0,     2,    23,     0,     0,     1,\n",
       "            2,     1, 11481,     8,     4,     2,     4,     5],\n",
       "       [    0,     0,     0,     0,     0,     0,     0,     0,     0,\n",
       "            1,     0,     0,     0,     0,     0,     0,     0,     0,\n",
       "            0,     0,    12,  1697,     0,     0,    12,     0],\n",
       "       [    2,     0,     2,     0,     0,     0,     1,    12,     0,\n",
       "            2,     2,     1,     6,    93,     0,     0,     0,     0,\n",
       "            0,     0,    56,     5,  4100,     0,     3,     0],\n",
       "       [    7,     0,     0,     0,     0,     0,     0,     1,     0,\n",
       "            1,    19,     4,     0,     0,     0,     1,     0,     0,\n",
       "            0,     0,     2,     1,     0,  2482,    27,     8],\n",
       "       [    1,     1,     0,     0,     1,     0,     0,     7,     0,\n",
       "           17,     0,     0,     0,     1,     2,     3,     0,     0,\n",
       "            4,    11,    10,     6,     0,     4,  4262,     0],\n",
       "       [    1,     1,     2,     0,     9,     0,     0,     0,     0,\n",
       "            0,     0,     2,     0,     0,     0,     0,     0,     2,\n",
       "            3,     1,     0,     0,     0,     3,     0,  2383]])>"
      ]
     },
     "execution_count": 23,
     "metadata": {},
     "output_type": "execute_result"
    }
   ],
   "source": [
    "cm =tf.math.confusion_matrix(labels = y3_test,predictions = y_pred_labels)\n",
    "cm"
   ]
  },
  {
   "cell_type": "code",
   "execution_count": 27,
   "id": "4c6a538b",
   "metadata": {
    "scrolled": false
   },
   "outputs": [
    {
     "data": {
      "text/plain": [
       "Text(0.5, 87.0, 'prediction')"
      ]
     },
     "execution_count": 27,
     "metadata": {},
     "output_type": "execute_result"
    },
    {
     "data": {
      "image/png": "[encoded data removed]",
      "text/plain": [
       "<Figure size 1296x864 with 2 Axes>"
      ]
     },
     "metadata": {
      "needs_background": "light"
     },
     "output_type": "display_data"
    }
   ],
   "source": [
    "plt.figure(figsize = (18,12))\n",
    "sns.heatmap(cm, annot = True, fmt = 'd')\n",
    "plt.ylabel('truth')\n",
    "plt.xlabel('prediction')"
   ]
  },
  {
   "cell_type": "markdown",
   "id": "d06e0940",
   "metadata": {},
   "source": [
    "### Predicting the TEST Data"
   ]
  },
  {
   "cell_type": "code",
   "execution_count": 187,
   "id": "f27462e4",
   "metadata": {
    "scrolled": true
   },
   "outputs": [
    {
     "data": {
      "text/plain": [
       "(28000, 784)"
      ]
     },
     "execution_count": 187,
     "metadata": {},
     "output_type": "execute_result"
    }
   ],
   "source": [
    "data_test.to_numpy().shape"
   ]
  },
  {
   "cell_type": "code",
   "execution_count": 188,
   "id": "a19d2328",
   "metadata": {},
   "outputs": [],
   "source": [
    "test =(data_test.to_numpy().reshape(28000,28,28))"
   ]
  },
  {
   "cell_type": "code",
   "execution_count": 189,
   "id": "f4e0807c",
   "metadata": {
    "scrolled": false
   },
   "outputs": [
    {
     "name": "stdout",
     "output_type": "stream",
     "text": [
      "875/875 [==============================] - 1s 841us/step\n"
     ]
    }
   ],
   "source": [
    "res2 = model3.predict(test)"
   ]
  },
  {
   "cell_type": "code",
   "execution_count": 190,
   "id": "37ff5763",
   "metadata": {},
   "outputs": [],
   "source": [
    "res2 = [np.argmax(i) for i in res2]"
   ]
  },
  {
   "cell_type": "code",
   "execution_count": 193,
   "id": "6bfacd41",
   "metadata": {
    "scrolled": true
   },
   "outputs": [
    {
     "data": {
      "text/html": [
       "<div>\n",
       "<style scoped>\n",
       "    .dataframe tbody tr th:only-of-type {\n",
       "        vertical-align: middle;\n",
       "    }\n",
       "\n",
       "    .dataframe tbody tr th {\n",
       "        vertical-align: top;\n",
       "    }\n",
       "\n",
       "    .dataframe thead th {\n",
       "        text-align: right;\n",
       "    }\n",
       "</style>\n",
       "<table border=\"1\" class=\"dataframe\">\n",
       "  <thead>\n",
       "    <tr style=\"text-align: right;\">\n",
       "      <th></th>\n",
       "      <th>Label</th>\n",
       "    </tr>\n",
       "  </thead>\n",
       "  <tbody>\n",
       "    <tr>\n",
       "      <th>0</th>\n",
       "      <td>2</td>\n",
       "    </tr>\n",
       "    <tr>\n",
       "      <th>1</th>\n",
       "      <td>0</td>\n",
       "    </tr>\n",
       "    <tr>\n",
       "      <th>2</th>\n",
       "      <td>9</td>\n",
       "    </tr>\n",
       "    <tr>\n",
       "      <th>3</th>\n",
       "      <td>9</td>\n",
       "    </tr>\n",
       "    <tr>\n",
       "      <th>4</th>\n",
       "      <td>3</td>\n",
       "    </tr>\n",
       "    <tr>\n",
       "      <th>5</th>\n",
       "      <td>7</td>\n",
       "    </tr>\n",
       "    <tr>\n",
       "      <th>6</th>\n",
       "      <td>0</td>\n",
       "    </tr>\n",
       "    <tr>\n",
       "      <th>7</th>\n",
       "      <td>3</td>\n",
       "    </tr>\n",
       "    <tr>\n",
       "      <th>8</th>\n",
       "      <td>0</td>\n",
       "    </tr>\n",
       "    <tr>\n",
       "      <th>9</th>\n",
       "      <td>3</td>\n",
       "    </tr>\n",
       "  </tbody>\n",
       "</table>\n",
       "</div>"
      ],
      "text/plain": [
       "   Label\n",
       "0      2\n",
       "1      0\n",
       "2      9\n",
       "3      9\n",
       "4      3\n",
       "5      7\n",
       "6      0\n",
       "7      3\n",
       "8      0\n",
       "9      3"
      ]
     },
     "execution_count": 193,
     "metadata": {},
     "output_type": "execute_result"
    }
   ],
   "source": [
    "res2[:10]"
   ]
  },
  {
   "cell_type": "code",
   "execution_count": 192,
   "id": "9d186718",
   "metadata": {},
   "outputs": [],
   "source": [
    "res2 = pd.DataFrame(res2, columns = ['Label'])"
   ]
  },
  {
   "cell_type": "code",
   "execution_count": 194,
   "id": "2539468d",
   "metadata": {},
   "outputs": [],
   "source": [
    "res2['ImageId'] = res2.index+1"
   ]
  },
  {
   "cell_type": "code",
   "execution_count": 196,
   "id": "8eee77e6",
   "metadata": {},
   "outputs": [],
   "source": [
    "res2.to_csv(r\"E:\\My Doucuments\\Machine Learning\\HandWritten Digits Recognition\\Predictions-4.csv\", index = False)"
   ]
  },
  {
   "cell_type": "markdown",
   "id": "b99bc615",
   "metadata": {},
   "source": [
    "### Testing custom image"
   ]
  },
  {
   "cell_type": "code",
   "execution_count": 43,
   "id": "b8d23bc3",
   "metadata": {},
   "outputs": [],
   "source": [
    "from PIL import Image\n",
    "import cv2\n",
    "image = cv2.imread(r\"C:\\Users\\rvikr\\Downloads\\Image-B.jpg\")"
   ]
  },
  {
   "cell_type": "code",
   "execution_count": 33,
   "id": "ab232ba8",
   "metadata": {},
   "outputs": [],
   "source": [
    "image = cv2.cvtColor(image, cv2.COLOR_BGR2GRAY)\n",
    "image = cv2.resize(image,(28,28))\n",
    "np_img = np.array(image)"
   ]
  },
  {
   "cell_type": "code",
   "execution_count": 67,
   "id": "4ec63b85",
   "metadata": {},
   "outputs": [],
   "source": [
    "image = cv2.resize(image,(28,28))"
   ]
  },
  {
   "cell_type": "code",
   "execution_count": 34,
   "id": "f1e6272a",
   "metadata": {},
   "outputs": [],
   "source": [
    "np_img = np.array(image)"
   ]
  },
  {
   "cell_type": "code",
   "execution_count": 35,
   "id": "dc96d980",
   "metadata": {},
   "outputs": [
    {
     "data": {
      "text/plain": [
       "(28, 28)"
      ]
     },
     "execution_count": 35,
     "metadata": {},
     "output_type": "execute_result"
    }
   ],
   "source": [
    "np_img.shape"
   ]
  },
  {
   "cell_type": "code",
   "execution_count": 36,
   "id": "79d34a79",
   "metadata": {},
   "outputs": [],
   "source": [
    "np_img = np.invert(np_img)"
   ]
  },
  {
   "cell_type": "code",
   "execution_count": 37,
   "id": "19974da6",
   "metadata": {
    "scrolled": false
   },
   "outputs": [
    {
     "data": {
      "text/plain": [
       "<matplotlib.image.AxesImage at 0x1fbcf4eb520>"
      ]
     },
     "execution_count": 37,
     "metadata": {},
     "output_type": "execute_result"
    },
    {
     "data": {
      "image/png": "[encoded data removed]",
      "text/plain": [
       "<Figure size 288x288 with 1 Axes>"
      ]
     },
     "metadata": {
      "needs_background": "light"
     },
     "output_type": "display_data"
    }
   ],
   "source": [
    "plt.matshow(np_img)"
   ]
  },
  {
   "cell_type": "code",
   "execution_count": 39,
   "id": "658a782b",
   "metadata": {},
   "outputs": [
    {
     "data": {
      "text/plain": [
       "(1, 28, 28)"
      ]
     },
     "execution_count": 39,
     "metadata": {},
     "output_type": "execute_result"
    }
   ],
   "source": [
    "np_img = [np_img]\n",
    "img = np.array(np_img)\n",
    "img.shape"
   ]
  },
  {
   "cell_type": "code",
   "execution_count": 58,
   "id": "e90c1be2",
   "metadata": {
    "scrolled": false
   },
   "outputs": [
    {
     "ename": "NameError",
     "evalue": "name 'model3' is not defined",
     "output_type": "error",
     "traceback": [
      "\u001b[1;31m---------------------------------------------------------------------------\u001b[0m",
      "\u001b[1;31mNameError\u001b[0m                                 Traceback (most recent call last)",
      "Input \u001b[1;32mIn [58]\u001b[0m, in \u001b[0;36m<cell line: 1>\u001b[1;34m()\u001b[0m\n\u001b[1;32m----> 1\u001b[0m result \u001b[38;5;241m=\u001b[39m \u001b[43mmodel3\u001b[49m\u001b[38;5;241m.\u001b[39mpredict(img)\n",
      "\u001b[1;31mNameError\u001b[0m: name 'model3' is not defined"
     ]
    }
   ],
   "source": [
    "result = model3.predict(img)"
   ]
  },
  {
   "cell_type": "code",
   "execution_count": 114,
   "id": "da7fe210",
   "metadata": {},
   "outputs": [
    {
     "data": {
      "text/plain": [
       "5"
      ]
     },
     "execution_count": 114,
     "metadata": {},
     "output_type": "execute_result"
    }
   ],
   "source": [
    "np.argmax(result)"
   ]
  },
  {
   "cell_type": "code",
   "execution_count": 28,
   "id": "c0ba084f",
   "metadata": {},
   "outputs": [
    {
     "name": "stderr",
     "output_type": "stream",
     "text": [
      "WARNING:absl:Found untraced functions such as _jit_compiled_convolution_op, _jit_compiled_convolution_op while saving (showing 2 of 2). These functions will not be directly callable after loading.\n"
     ]
    },
    {
     "name": "stdout",
     "output_type": "stream",
     "text": [
      "INFO:tensorflow:Assets written to: E:\\My Doucuments\\Machine Learning\\HandWritten Digits Recognition\\project-alpha\\assets\n"
     ]
    },
    {
     "name": "stderr",
     "output_type": "stream",
     "text": [
      "INFO:tensorflow:Assets written to: E:\\My Doucuments\\Machine Learning\\HandWritten Digits Recognition\\project-alpha\\assets\n"
     ]
    }
   ],
   "source": [
    "import os\n",
    "model3.save(r\"E:\\My Doucuments\\Machine Learning\\HandWritten Digits Recognition\\project-alpha\")"
   ]
  },
  {
   "cell_type": "code",
   "execution_count": 44,
   "id": "23dc447d",
   "metadata": {
    "scrolled": false
   },
   "outputs": [
    {
     "name": "stdout",
     "output_type": "stream",
     "text": [
      "1/1 [==============================] - 0s 47ms/step\n"
     ]
    },
    {
     "data": {
      "text/plain": [
       "'B'"
      ]
     },
     "execution_count": 44,
     "metadata": {},
     "output_type": "execute_result"
    }
   ],
   "source": [
    "model = tf.keras.models.load_model(r\"C:\\Users\\rvikr\\fastAPI 2\\PlantVillage\\saved_models\\project-alpha\")\n",
    "image2 = cv2.cvtColor(image, cv2.COLOR_BGR2GRAY)\n",
    "image3 = cv2.resize(image2,(28,28))\n",
    "np_img = np.array(image3)\n",
    "np_img = np.invert(np_img)\n",
    "np_img = [np_img]\n",
    "img = np.array(np_img)\n",
    "result = model.predict(img)\n",
    "result = np.argmax(result)\n",
    "res = chr(ord('@')+result+1)\n",
    "res"
   ]
  },
  {
   "cell_type": "code",
   "execution_count": 75,
   "id": "e9b336ab",
   "metadata": {},
   "outputs": [
    {
     "data": {
      "text/plain": [
       "5"
      ]
     },
     "execution_count": 75,
     "metadata": {},
     "output_type": "execute_result"
    }
   ],
   "source": [
    "res"
   ]
  },
  {
   "cell_type": "code",
   "execution_count": 76,
   "id": "0c2aca2d",
   "metadata": {},
   "outputs": [
    {
     "data": {
      "text/plain": [
       "1.0"
      ]
     },
     "execution_count": 76,
     "metadata": {},
     "output_type": "execute_result"
    }
   ],
   "source": [
    "conf"
   ]
  },
  {
   "cell_type": "code",
   "execution_count": null,
   "id": "670ef050",
   "metadata": {},
   "outputs": [],
   "source": []
  }
 ],
 "metadata": {
  "kernelspec": {
   "display_name": "Python 3 (ipykernel)",
   "language": "python",
   "name": "python3"
  },
  "language_info": {
   "codemirror_mode": {
    "name": "ipython",
    "version": 3
   },
   "file_extension": ".py",
   "mimetype": "text/x-python",
   "name": "python",
   "nbconvert_exporter": "python",
   "pygments_lexer": "ipython3",
   "version": "3.9.12"
  }
 },
 "nbformat": 4,
 "nbformat_minor": 5
}
